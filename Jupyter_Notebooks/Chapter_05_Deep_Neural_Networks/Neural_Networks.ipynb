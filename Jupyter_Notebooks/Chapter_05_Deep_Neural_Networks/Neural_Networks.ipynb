{
  "cells": [
    {
      "cell_type": "markdown",
      "id": "489b9bb3",
      "metadata": {
        "id": "489b9bb3"
      },
      "source": [
        "<font face=\"XB Zar\" size=5><div dir=rtl align=center>\n",
        "<font face=\"IranNastaliq\" size=5>\n",
        "به نام خدا\n",
        "</font>\n",
        "<br>\n",
        "<font size=3>\n",
        "دانشگاه صنعتی شریف - دانشکده مهندسی کامپیوتر\n",
        "</font>\n",
        "<br>\n",
        "<font color=blue size=5>\n",
        "مقدمه‌ای بر یادگیری ماشین\n",
        "</font>\n",
        "<br>\n",
        "<hr/>\n",
        "<font color=red size=6>\n",
        "فصل پنج\n",
        "<br>\n",
        "Neural Networks \n",
        "</font>\n",
        "<br>\n",
        "نویسنده:‌ علی رازقندی\n",
        "<hr>\n",
        "\n",
        "</div></font>"
      ]
    },
    {
      "cell_type": "code",
      "execution_count": 20,
      "id": "8efb6140",
      "metadata": {
        "id": "8efb6140"
      },
      "outputs": [],
      "source": [
        "import numpy as np\n",
        "import matplotlib.pyplot as plt\n",
        "import pandas as pd\n",
        "\n",
        "from codes.MNIST_data import *\n",
        "from codes.california_housing import *\n",
        "from codes.solver import *\n",
        "\n",
        "%matplotlib inline\n",
        "plt.rcParams['figure.figsize'] = (10.0, 8.0) # set default size of plots\n",
        "plt.rcParams['image.cmap'] = 'gray'\n",
        "\n",
        "def rel_error(x, y):\n",
        "  \"\"\" returns relative error \"\"\"\n",
        "  return np.max(np.abs(x - y) / (np.maximum(1e-8, np.abs(x) + np.abs(y))))\n",
        "\n",
        "def print_mean_std(x,axis=0):\n",
        "    print(f\"  means: {x.mean(axis=axis)}\")\n",
        "    print(f\"  stds:  {x.std(axis=axis)}\\n\")"
      ]
    },
    {
      "cell_type": "markdown",
      "id": "57c3af9e",
      "metadata": {
        "id": "57c3af9e"
      },
      "source": [
        "# Fully-Connected Neural Nets\n",
        "In this notebook we will implement fully-connected networks using a modular approach. For each layer we will implement a `forward` and a `backward` function. The `forward` function will receive inputs, weights, and other parameters and will return both an output and a `cache` object storing data needed for the backward pass, like this:\n",
        "\n",
        "```python\n",
        "def layer_forward(x, w):\n",
        "  \"\"\" Receive inputs x and weights w \"\"\"\n",
        "  # Do some computations ...\n",
        "  z = # ... some intermediate value\n",
        "  # Do some more computations ...\n",
        "  out = # the output\n",
        "   \n",
        "  cache = (x, w, z, out) # Values we need to compute gradients\n",
        "   \n",
        "  return out, cache\n",
        "```\n",
        "\n",
        "The backward pass will receive upstream derivatives and the `cache` object, and will return gradients with respect to the inputs and weights, like this:\n",
        "\n",
        "```python\n",
        "def layer_backward(dout, cache):\n",
        "  \"\"\"\n",
        "  Receive dout (derivative of loss with respect to outputs) and cache,\n",
        "  and compute derivative with respect to inputs.\n",
        "  \"\"\"\n",
        "  # Unpack cache values\n",
        "  x, w, z, out = cache\n",
        "  \n",
        "  # Use values in cache to compute derivatives\n",
        "  dx = # Derivative of loss with respect to x\n",
        "  dw = # Derivative of loss with respect to w\n",
        "  \n",
        "  return dx, dw\n",
        "```\n",
        "\n",
        "After implementing a bunch of layers this way, we will be able to easily combine them to build classifiers with different architectures."
      ]
    },
    {
      "cell_type": "markdown",
      "id": "649895ab",
      "metadata": {
        "id": "649895ab"
      },
      "source": [
        "# Affine layer: forward"
      ]
    },
    {
      "cell_type": "code",
      "execution_count": 21,
      "id": "03c584b4",
      "metadata": {
        "id": "03c584b4"
      },
      "outputs": [],
      "source": [
        "def affine_forward(x, w, b):\n",
        "    \"\"\"\n",
        "    Computes the forward pass for an affine (fully-connected) layer.\n",
        "\n",
        "    The input x has shape (N, d_1, ..., d_k) and contains a minibatch of N\n",
        "    examples, where each example x[i] has shape (d_1, ..., d_k). We will\n",
        "    reshape each input into a vector of dimension D = d_1 * ... * d_k, and\n",
        "    then transform it to an output vector of dimension M.\n",
        "\n",
        "    Inputs:\n",
        "    - x: A numpy array containing input data, of shape (N, d_1, ..., d_k)\n",
        "    - w: A numpy array of weights, of shape (D, M)\n",
        "    - b: A numpy array of biases, of shape (M,)\n",
        "\n",
        "    Returns a tuple of:\n",
        "    - out: output, of shape (N, M)\n",
        "    - cache: (x, w, b)\n",
        "    \"\"\"\n",
        "\n",
        "    N = x.shape[0]\n",
        "    D,M = w.shape\n",
        "    \n",
        "    input_vectors = x.reshape(N,D)\n",
        "    \n",
        "    out = np.matmul(input_vectors,w) + b\n",
        "    \n",
        "    return out, (x, w, b)\n",
        "    "
      ]
    },
    {
      "cell_type": "markdown",
      "id": "8e64b312",
      "metadata": {
        "id": "8e64b312"
      },
      "source": [
        "# Affine layer: backward"
      ]
    },
    {
      "cell_type": "code",
      "execution_count": 22,
      "id": "e61d5b9c",
      "metadata": {
        "id": "e61d5b9c"
      },
      "outputs": [],
      "source": [
        "def affine_backward(dout, cache):\n",
        "    \"\"\"\n",
        "    Computes the backward pass for an affine layer.\n",
        "\n",
        "    Inputs:\n",
        "    - dout: Upstream derivative, of shape (N, M)\n",
        "    - cache: Tuple of:\n",
        "      - x: Input data, of shape (N, d_1, ... d_k)\n",
        "      - w: Weights, of shape (D, M)\n",
        "      - b: Biases, of shape (M,)\n",
        "\n",
        "    Returns a tuple of:\n",
        "    - dx: Gradient with respect to x, of shape (N, d1, ..., d_k)\n",
        "    - dw: Gradient with respect to w, of shape (D, M)\n",
        "    - db: Gradient with respect to b, of shape (M,)\n",
        "    \"\"\"    \n",
        "    x,w,b = cache\n",
        "    \n",
        "    \n",
        "    N = x.shape[0]\n",
        "    D,M = w.shape\n",
        "    \n",
        "    dx = np.matmul(dout,w.transpose()).reshape(x.shape)\n",
        "    dw = np.matmul(x.reshape(N,D).transpose(),dout)\n",
        "    db = np.sum(dout, axis=0)\n",
        "    \n",
        "    \n",
        "    return dx,dw,db"
      ]
    },
    {
      "cell_type": "markdown",
      "id": "af5910d2",
      "metadata": {
        "id": "af5910d2"
      },
      "source": [
        "# ReLU activation: forward"
      ]
    },
    {
      "cell_type": "code",
      "execution_count": 23,
      "id": "c537098f",
      "metadata": {
        "id": "c537098f"
      },
      "outputs": [],
      "source": [
        "def relu_forward(x):\n",
        "    \"\"\"\n",
        "    Computes the forward pass for a layer of rectified linear units (ReLUs).\n",
        "\n",
        "    Input:\n",
        "    - x: Inputs, of any shape\n",
        "\n",
        "    Returns a tuple of:\n",
        "    - out: Output, of the same shape as x\n",
        "    - cache: x\n",
        "    \"\"\"\n",
        "    return np.maximum(x,0),x"
      ]
    },
    {
      "cell_type": "markdown",
      "id": "6171f37c",
      "metadata": {
        "id": "6171f37c"
      },
      "source": [
        "# ReLU activation: backward"
      ]
    },
    {
      "cell_type": "code",
      "execution_count": 24,
      "id": "3187da88",
      "metadata": {
        "id": "3187da88"
      },
      "outputs": [],
      "source": [
        "def relu_backward(dout, cache):\n",
        "    \"\"\"\n",
        "    Computes the backward pass for a layer of rectified linear units (ReLUs).\n",
        "\n",
        "    Input:\n",
        "    - dout: Upstream derivatives, of any shape\n",
        "    - cache: Input x, of same shape as dout\n",
        "\n",
        "    Returns:\n",
        "    - dx: Gradient with respect to x\n",
        "    \"\"\"\n",
        "    dr = cache\n",
        "    dr[dr<=0] = 0\n",
        "    dr[dr>0] = 1\n",
        "    \n",
        "    return np.multiply(dr,dout)"
      ]
    },
    {
      "cell_type": "markdown",
      "id": "b0f2e4d2",
      "metadata": {
        "id": "b0f2e4d2"
      },
      "source": [
        "# Sigmoid activation: forward"
      ]
    },
    {
      "cell_type": "code",
      "execution_count": 25,
      "id": "872854b0",
      "metadata": {
        "id": "872854b0"
      },
      "outputs": [],
      "source": [
        "def sigmoid_forward(x):\n",
        "    \"\"\"\n",
        "    Computes the forward pass for a layer of Sigmoid.\n",
        "\n",
        "    Input:\n",
        "    - x: Inputs, of any shape\n",
        "\n",
        "    Returns a tuple of:\n",
        "    - out: Output, of the same shape as x\n",
        "    - cache: x\n",
        "    \"\"\"\n",
        "\n",
        "    out = np.divide(np.exp(x), np.exp(x) + 1)\n",
        "    return out, x"
      ]
    },
    {
      "cell_type": "markdown",
      "id": "9aa4e6a8",
      "metadata": {
        "id": "9aa4e6a8"
      },
      "source": [
        "# Sigmoid activation: backward"
      ]
    },
    {
      "cell_type": "code",
      "execution_count": 26,
      "id": "fe527984",
      "metadata": {
        "id": "fe527984"
      },
      "outputs": [],
      "source": [
        "def sigmoid_backward(dout, cache):\n",
        "    \"\"\"\n",
        "    Computes the backward pass for a layer of Sigmoid.\n",
        "\n",
        "    Input:\n",
        "    - dout: Upstream derivatives, of any shape\n",
        "    - cache: Input x, of same shape as dout\n",
        "\n",
        "    Returns:\n",
        "    - dx: Gradient with respect to x\n",
        "    \"\"\"\n",
        "    out,_ = sigmoid_forward(cache)\n",
        "    ds = out * (1-out)\n",
        "    \n",
        "    return np.multiply(ds,dout)"
      ]
    },
    {
      "cell_type": "markdown",
      "id": "1eb8d7a7",
      "metadata": {
        "tags": [],
        "id": "1eb8d7a7"
      },
      "source": [
        "# \"Sandwich\" layers\n",
        "There are some common patterns of layers that are frequently used in neural nets. For example, affine layers are frequently followed by a ReLU nonlinearity.here is the Implementation of the forward and backward pass for the affine layer followed by a ReLU nonlinearity in the `affine_relu_forward` and `affine_relu_backward` functions. "
      ]
    },
    {
      "cell_type": "code",
      "execution_count": 27,
      "id": "7283bd3d",
      "metadata": {
        "id": "7283bd3d"
      },
      "outputs": [],
      "source": [
        "def affine_relu_forward(x, w, b):\n",
        "    \"\"\"\n",
        "    Convenience layer that performs an affine transform followed by a ReLU\n",
        "\n",
        "    Inputs:\n",
        "    - x: Input to the affine layer\n",
        "    - w, b: Weights for the affine layer\n",
        "\n",
        "    Returns a tuple of:\n",
        "    - out: Output from the ReLU\n",
        "    - cache: Object to give to the backward pass\n",
        "    \"\"\"\n",
        "    \n",
        "    affine_out, affine_cache = affine_forward(x, w, b)\n",
        "    \n",
        "    relu_out, relu_cache = relu_forward(affine_out)\n",
        "    \n",
        "    return relu_out, (*affine_cache,relu_cache)\n",
        "    "
      ]
    },
    {
      "cell_type": "code",
      "execution_count": 28,
      "id": "00e27852",
      "metadata": {
        "id": "00e27852"
      },
      "outputs": [],
      "source": [
        "def affine_relu_backward(dout, cache):\n",
        "    \"\"\"\n",
        "    Backward pass for the affine-relu convenience layer\n",
        "    \n",
        "    Inputs:\n",
        "    - dout: Upstream derivatives, of any shape\n",
        "    - cache: (fc_cache, relu_cache)\n",
        "      \n",
        "    Returns a tuple of:\n",
        "    - dx: Gradient with respect to x\n",
        "    - dw: Gradient with respect to w\n",
        "    - db: Gradient with respect to b\n",
        "    \"\"\"\n",
        "    x, w, b, relu_input = cache\n",
        "    \n",
        "    relu_backward_out = relu_backward(dout, relu_input)\n",
        "    dx, dw, db = affine_backward(relu_backward_out, (x, w, b))\n",
        "    \n",
        "    return dx, dw, db"
      ]
    },
    {
      "cell_type": "markdown",
      "id": "0bd6b07f",
      "metadata": {
        "id": "0bd6b07f"
      },
      "source": [
        "# Batch Normalization: Forward Pass\n"
      ]
    },
    {
      "cell_type": "code",
      "execution_count": 29,
      "id": "7ae14e5d",
      "metadata": {
        "id": "7ae14e5d"
      },
      "outputs": [],
      "source": [
        "def batchnorm_forward(x, gamma, beta, bn_param):\n",
        "    \"\"\"Forward pass for batch normalization.\n",
        "\n",
        "    During training the sample mean and (uncorrected) sample variance are\n",
        "    computed from minibatch statistics and used to normalize the incoming data.\n",
        "    During training we also keep an exponentially decaying running mean of the\n",
        "    mean and variance of each feature, and these averages are used to normalize\n",
        "    data at test-time.\n",
        "\n",
        "    At each timestep we update the running averages for mean and variance using\n",
        "    an exponential decay based on the momentum parameter:\n",
        "\n",
        "    running_mean = momentum * running_mean + (1 - momentum) * sample_mean\n",
        "    running_var = momentum * running_var + (1 - momentum) * sample_var\n",
        "\n",
        "    Input:\n",
        "    - x: Data of shape (N, D)\n",
        "    - gamma: Scale parameter of shape (D,)\n",
        "    - beta: Shift paremeter of shape (D,)\n",
        "    - bn_param: Dictionary with the following keys:\n",
        "      - mode: 'train' or 'test'; required\n",
        "      - eps: Constant for numeric stability\n",
        "      - momentum: Constant for running mean / variance.\n",
        "      - running_mean: Array of shape (D,) giving running mean of features\n",
        "      - running_var Array of shape (D,) giving running variance of features\n",
        "\n",
        "    Returns a tuple of:\n",
        "    - out: of shape (N, D)\n",
        "    - cache: A tuple of values needed in the backward pass\n",
        "    \"\"\"\n",
        "    mode = bn_param[\"mode\"]\n",
        "    eps = bn_param.get(\"eps\", 1e-5)\n",
        "    momentum = bn_param.get(\"momentum\", 0.9)\n",
        "\n",
        "    N, D = x.shape\n",
        "    running_mean = bn_param.get(\"running_mean\", np.zeros(D, dtype=x.dtype))\n",
        "    running_var = bn_param.get(\"running_var\", np.zeros(D, dtype=x.dtype))\n",
        "\n",
        "    out, cache = None, None\n",
        "    if mode == \"train\":\n",
        "        data_mean = np.mean(x, axis=0)\n",
        "        data_var = np.var(x, axis=0)\n",
        "        \n",
        "        running_mean = momentum * running_mean + (1 - momentum) * data_mean\n",
        "        running_var = momentum * running_var + (1 - momentum) * data_var\n",
        "        \n",
        "        normilized_data = (x - data_mean) / np.sqrt(data_var + eps)\n",
        "        out = normilized_data * gamma + beta\n",
        "        cache = (x, gamma, beta, bn_param, normilized_data)\n",
        "\n",
        "    elif mode == \"test\":\n",
        "\n",
        "        normilized_data = (x - running_mean) / np.sqrt(running_var + eps)\n",
        "        out = normilized_data * gamma + beta\n",
        "        cache = (x, gamma, beta, bn_param, normilized_data)\n",
        "\n",
        "    else:\n",
        "        raise ValueError('Invalid forward batchnorm mode \"%s\"' % mode)\n",
        "\n",
        "    bn_param[\"running_mean\"] = running_mean\n",
        "    bn_param[\"running_var\"] = running_var\n",
        "\n",
        "    return out, cache"
      ]
    },
    {
      "cell_type": "markdown",
      "id": "07719acb",
      "metadata": {
        "id": "07719acb"
      },
      "source": [
        "# Batch Normalization: Backward Pass\n",
        "Now here is the implementation of the backward pass for batch normalization in the function `batchnorm_backward`.\n",
        "\n",
        "In the forward pass, given a set of inputs $X=\\begin{bmatrix}x_1\\\\x_2\\\\...\\\\x_N\\end{bmatrix}$, \n",
        "\n",
        "we first calculate the mean $\\mu$ and variance $var$.\n",
        "With $\\mu$ and $var$ calculated, we can calculate the standard deviation $\\sigma$  and normalized data $Y$.\n",
        "The equations and graph illustration below describe the computation ($y_i$ is the i-th element of the vector $Y$).\n",
        "\n",
        "\\begin{align}\n",
        "& \\mu=\\frac{1}{N}\\sum_{k=1}^N x_k  &  var=\\frac{1}{N}\\sum_{k=1}^N (x_k-\\mu)^2 \\\\\n",
        "& \\sigma=\\sqrt{v+\\epsilon}         &  y_i=\\frac{x_i-\\mu}{\\sigma}\n",
        "\\end{align}"
      ]
    },
    {
      "cell_type": "markdown",
      "id": "06afd7ac",
      "metadata": {
        "id": "06afd7ac"
      },
      "source": [
        "<img src=\"https://kratzert.github.io/images/bn_backpass/bn_algorithm.PNG\">\n",
        "\n",
        "---\n",
        "\n",
        "\n",
        "<img src=\"https://kratzert.github.io/images/bn_backpass/BNcircuit.png\">\n",
        "\n",
        "\n"
      ]
    },
    {
      "cell_type": "code",
      "execution_count": 30,
      "id": "07b2bf8c",
      "metadata": {
        "id": "07b2bf8c"
      },
      "outputs": [],
      "source": [
        "def batchnorm_backward(dout, cache):\n",
        "    \"\"\"Backward pass for batch normalization.\n",
        "\n",
        "    For this implementation, you should write out a computation graph for\n",
        "    batch normalization on paper and propagate gradients backward through\n",
        "    intermediate nodes.\n",
        "\n",
        "    Inputs:\n",
        "    - dout: Upstream derivatives, of shape (N, D)\n",
        "    - cache: Variable of intermediates from batchnorm_forward.\n",
        "\n",
        "    Returns a tuple of:\n",
        "    - dx: Gradient with respect to inputs x, of shape (N, D)\n",
        "    - dgamma: Gradient with respect to scale parameter gamma, of shape (D,)\n",
        "    - dbeta: Gradient with respect to shift parameter beta, of shape (D,)\n",
        "    \"\"\"\n",
        "    \n",
        "    x, gamma, beta, bn_param, normilized_data = cache\n",
        "    eps = bn_param.get(\"eps\", 1e-5)\n",
        "    dbeta = np.sum(dout, axis=0)\n",
        "    dgamma = np.multiply(normilized_data, dout).sum(axis=0)\n",
        "    \n",
        "    mean = np.mean(x, axis=0)\n",
        "    var = np.var(x, axis=0)\n",
        "    std = np.sqrt(var+eps)\n",
        "    \n",
        "    n,d = dout.shape\n",
        "    \n",
        "    coef = gamma * dout    \n",
        "    \n",
        "    d_isigma = np.sum(coef * (x-mean), axis=0)\n",
        "    dxmu1 = coef / std\n",
        "\n",
        "  \n",
        "    dsigma = -1. /(std**2) * d_isigma\n",
        "\n",
        "  \n",
        "    dvar = 0.5 * 1 /std * dsigma\n",
        "\n",
        "  \n",
        "    dsq = 1 /n * np.ones((n,d)) * dvar\n",
        "\n",
        "  \n",
        "    dxmu2 = 2 * (x - mean) * dsq\n",
        "\n",
        "    \n",
        "    dx1 = (dxmu1 + dxmu2)\n",
        "    dmu = -1 * np.sum(dxmu1+dxmu2, axis=0)\n",
        "\n",
        "    \n",
        "    dx2 = 1. /n * np.ones((n,d)) * dmu\n",
        "\n",
        "    \n",
        "    dx = dx1 + dx2\n",
        "    \n",
        "    \n",
        "    return dx,dgamma,dbeta"
      ]
    },
    {
      "cell_type": "markdown",
      "id": "a9227f7e",
      "metadata": {
        "id": "a9227f7e"
      },
      "source": [
        "# Loss layer: Softmax"
      ]
    },
    {
      "cell_type": "code",
      "execution_count": 31,
      "id": "e99a83c5",
      "metadata": {
        "id": "e99a83c5"
      },
      "outputs": [],
      "source": [
        "def softmax_loss(x, y):\n",
        "    \"\"\"\n",
        "    Computes the loss and gradient for softmax classification.\n",
        "\n",
        "    Inputs:\n",
        "    - x: Input data, of shape (N, C) where x[i, j] is the score for the jth\n",
        "      class for the ith input.\n",
        "    - y: Vector of labels, of shape (N,) where y[i] is the label for x[i] and\n",
        "      0 <= y[i] < C\n",
        "\n",
        "    Returns a tuple of:\n",
        "    - loss: Scalar giving the loss\n",
        "    - dx: Gradient of the loss with respect to x\n",
        "    \"\"\"\n",
        "\n",
        "    n = y.shape[0]\n",
        "    p = (np.exp(x).T / np.sum(np.exp(x),axis=1)).T\n",
        "    log_likelihood = -np.log(p[range(n),y])\n",
        "    loss = np.sum(log_likelihood) / n\n",
        "    \n",
        "    p[range(n),y] -= 1\n",
        "    dx = p/n\n",
        "    \n",
        "    return loss,dx"
      ]
    },
    {
      "cell_type": "markdown",
      "id": "31d4492a",
      "metadata": {
        "id": "31d4492a"
      },
      "source": [
        "# Loss layer: MSE"
      ]
    },
    {
      "cell_type": "code",
      "execution_count": 32,
      "id": "92f5cdd9",
      "metadata": {
        "id": "92f5cdd9"
      },
      "outputs": [],
      "source": [
        "def mse_loss(x, y):\n",
        "    \"\"\"\n",
        "    Computes the loss and gradient for MSE loss.\n",
        "\n",
        "    Inputs:\n",
        "    - x: Input data, of shape (N,) where x[i] is the predicted vector for \n",
        "        the ith input.\n",
        "    - y: Vector of target values, of shape (N,) where y[i] is the target value\n",
        "        for the ith input.\n",
        "\n",
        "    Returns a tuple of:\n",
        "    - loss: Scalar giving the loss\n",
        "    - dx: Gradient of the loss with respect to x\n",
        "    \"\"\"\n",
        "    n = x.shape[0]\n",
        "    \n",
        "    x = x.flatten()\n",
        "    y = y.flatten()\n",
        "    \n",
        "    MSE = ((y - x)**2).sum() / n\n",
        "    \n",
        "    dx = 2 * (x-y) / n\n",
        "    \n",
        "    return MSE,dx"
      ]
    },
    {
      "cell_type": "markdown",
      "id": "71a7bb75",
      "metadata": {
        "id": "71a7bb75"
      },
      "source": [
        "# Multi-Layer Fully Connected Network"
      ]
    },
    {
      "cell_type": "code",
      "execution_count": 33,
      "id": "ffd460d2",
      "metadata": {
        "id": "ffd460d2"
      },
      "outputs": [],
      "source": [
        "class FullyConnectedNet(object):\n",
        "    \"\"\"Class for a multi-layer fully connected neural network.\n",
        "\n",
        "    Network contains an arbitrary number of hidden layers, ReLU nonlinearities,\n",
        "    and a softmax loss function for a classification problem or the MSE loss function for \n",
        "    a regression problem. This will also implement batch normalization as an option. \n",
        "    For a network with L layers, the architecture will be\n",
        "\n",
        "    {affine - [batchnorm] - relu} x (L - 1) - affine - softmax/mse\n",
        "\n",
        "    where batch normalization is optional in each layer and the {...} block is\n",
        "    repeated L - 1 times.\n",
        "\n",
        "    Learnable parameters are stored in the self.params dictionary and will be learned\n",
        "    using the Solver class.\n",
        "    \"\"\"\n",
        "\n",
        "    def __init__(\n",
        "        self,\n",
        "        category,\n",
        "        hidden_dims,\n",
        "        normalization,\n",
        "        input_dim=784,\n",
        "        output_dim=10,\n",
        "        reg=0.0,\n",
        "        weight_scale=1e-2,\n",
        "        dtype=np.float32,\n",
        "    ):\n",
        "        \"\"\"Initialize a new FullyConnectedNet.\n",
        "\n",
        "        Inputs:\n",
        "        - category: The type of the problem. Valid values are \"classification\",\n",
        "            \"regression\".\n",
        "        - hidden_dims: A list of integers giving the size of each hidden layer.\n",
        "        - normalization: A list of booleans which shows that we have batch \n",
        "            normalization after the affine layer.\n",
        "        - input_dim: An integer giving the size of the input.\n",
        "        - output_dim: An integer giving the number of classes to classify. It\n",
        "            is 1 for a regression problem.\n",
        "        - reg: Scalar giving L2 regularization strength.\n",
        "        - weight_scale: Scalar giving the standard deviation for random\n",
        "            initialization of the weights.\n",
        "        - dtype: A numpy datatype object; all computations will be performed using\n",
        "            this datatype. float32 is faster but less accurate, so you should use\n",
        "            float64 for numeric gradient checking.\n",
        "        \"\"\"\n",
        "        self.category = category\n",
        "        self.normalization = normalization\n",
        "        self.reg = reg\n",
        "        self.num_layers = 1 + len(hidden_dims)\n",
        "        self.dtype = dtype\n",
        "        self.params = {}\n",
        "        \n",
        "        last_no_number = input_dim\n",
        "        \n",
        "        for i in range(len(hidden_dims)):\n",
        "            weight_key = 'w' + str(i+1)\n",
        "            bias_key = 'b' + str(i+1)\n",
        "            no_node = hidden_dims[i]\n",
        "            \n",
        "            weights = np.random.normal(0, weight_scale, size=(last_no_number, no_node))\n",
        "            biases = np.zeros(no_node)\n",
        "            \n",
        "            last_no_number = no_node\n",
        "            \n",
        "            self.params[weight_key] = weights\n",
        "            self.params[bias_key] = biases\n",
        "            \n",
        "            if normalization[i]:\n",
        "                gamma_key = 'gamma' + str(i+1)\n",
        "                beta_key = 'beta' + str(i+1)\n",
        "                \n",
        "                self.params[gamma_key] = np.ones(no_node)\n",
        "                self.params[beta_key] = np.zeros(no_node)\n",
        "        \n",
        "        weight_key = 'w' + str(self.num_layers)\n",
        "        bias_key = 'b' + str(self.num_layers)\n",
        "        \n",
        "        weights = np.random.normal(0, weight_scale, size=(last_no_number, output_dim))\n",
        "        biases = np.zeros(output_dim)\n",
        "            \n",
        "        self.params[weight_key] = weights\n",
        "        self.params[bias_key] = biases\n",
        "\n",
        "        # With batch normalization we need to keep track of running means and\n",
        "        # variances, so we need to pass a special bn_param object to each batch\n",
        "        # normalization layer. You should pass self.bn_params[0] to the forward pass\n",
        "        # of the first batch normalization layer, self.bn_params[1] to the forward\n",
        "        # pass of the second batch normalization layer, etc.\n",
        "\n",
        "        self.bn_params = [{\"mode\": \"train\"} for i in range(self.num_layers - 1)]\n",
        "\n",
        "        # Cast all parameters to the correct datatype.\n",
        "        for k, v in self.params.items():\n",
        "            self.params[k] = v.astype(dtype)\n",
        "\n",
        "    def loss(self, X, y=None):\n",
        "        \"\"\"Compute loss and gradient for the fully connected net.\n",
        "        \n",
        "        Inputs:\n",
        "        - X: Array of input data of shape (N, d_1, ..., d_k)\n",
        "        - y: Array of labels / target values, of shape (N,). y[i] gives the \n",
        "            label / target value for X[i].\n",
        "\n",
        "        Returns:\n",
        "        If y is None, then run a test-time forward pass of the model and return\n",
        "        scores for a classification problem or the predicted_values for \n",
        "        a regression problem:\n",
        "        - out: Array of shape (N, C) / (N, ) giving classification scores / predicted values, where \n",
        "        scores[i, c] is the classification score for X[i] and class c / predicted_values[i]\n",
        "        is the predicted value for X[i].\n",
        "            \n",
        "\n",
        "        If y is not None, then run a training-time forward and backward pass and\n",
        "        return a tuple of:\n",
        "        - loss: Scalar value giving the loss\n",
        "        - grads: Dictionary with the same keys as self.params, mapping parameter\n",
        "            names to gradients of the loss with respect to those parameters.\n",
        "        \"\"\"\n",
        "        X = X.astype(self.dtype)\n",
        "        mode = \"test\" if y is None else \"train\"\n",
        "\n",
        "        # Set train/test mode for batchnorm params since they\n",
        "        # behave differently during training and testing.\n",
        "        for bn_param in self.bn_params:\n",
        "            bn_param[\"mode\"] = mode\n",
        "\n",
        "        cache_list = list()\n",
        "        data = X\n",
        "        for i in range(self.num_layers - 1):\n",
        "            \n",
        "            cache_list.append(dict())\n",
        "            \n",
        "            weights = self.params['w'+str(i+1)]\n",
        "            biases = self.params['b'+str(i+1)]\n",
        "            \n",
        "            data, affine_cache = affine_forward(data, weights, biases)\n",
        "            \n",
        "            cache_list[i][\"affine_cache\"] = affine_cache\n",
        "            \n",
        "            if self.normalization[i]:\n",
        "                gamma = self.params['gamma' + str(i+1)]\n",
        "                beta = self.params['beta' + str(i+1)]\n",
        "                data, batch_cache = batchnorm_forward(data, gamma, beta, self.bn_params[i])\n",
        "                \n",
        "                cache_list[i][\"batch_cache\"] = batch_cache\n",
        "                \n",
        "            data, relu_cache = relu_forward(data)\n",
        "            cache_list[i][\"relu_cache\"] = relu_cache\n",
        "        \n",
        "        \n",
        "        weight_key = 'w' + str(self.num_layers)\n",
        "        bias_key = 'b' + str(self.num_layers)\n",
        "            \n",
        "        weights = self.params[weight_key] \n",
        "        biases = self.params[bias_key]\n",
        "        \n",
        "        out, affine_cache = affine_forward(data, weights, biases)\n",
        "        cache_list.append(dict())\n",
        "        \n",
        "        cache_list[-1][\"affine_cache\"] = affine_cache   \n",
        "\n",
        "        # If test mode return early.\n",
        "        if mode == \"test\":\n",
        "            return out\n",
        "            \n",
        "        loss, grads = 0.0, {}\n",
        "      \n",
        "        if self.category == 'classification':\n",
        "            loss, loss_grad = softmax_loss(out, y)\n",
        "        else:\n",
        "            loss, loss_grad = mse_loss(out, y)\n",
        "            loss_grad = np.reshape(loss_grad, (-1, 1))\n",
        "            \n",
        "        \n",
        "        for i in range(self.num_layers):\n",
        "            w = self.params['w'+str(i+1)]\n",
        "            loss += 0.5 * self.reg * np.sum(w * w) \n",
        "\n",
        "        # calculate gradients\n",
        "        dout = loss_grad\n",
        "        affine_cache = cache_list[-1][\"affine_cache\"]\n",
        "        \n",
        "        dout, dw, db = affine_backward(dout, affine_cache)\n",
        "        grads['w' + str(self.num_layers)] = dw + self.reg * self.params['w' + str(self.num_layers)]\n",
        "        grads['b' + str(self.num_layers)] = db\n",
        "        \n",
        "        \n",
        "        for i in range(self.num_layers - 2, -1, -1):\n",
        "            relu_cache = cache_list[i][\"relu_cache\"]\n",
        "            dx = relu_backward(dout, relu_cache)\n",
        "            \n",
        "            if self.normalization[i]:\n",
        "                batch_cache = cache_list[i][\"batch_cache\"]\n",
        "                dx,dgamma,dbeta = batchnorm_backward(dx, batch_cache)\n",
        "                grads['gamma'+str(i+1)] = dgamma\n",
        "                grads['beta' +str(i+1)] = dbeta\n",
        "            \n",
        "            affine_cache = cache_list[i][\"affine_cache\"]\n",
        "            dx, dw, db = affine_backward(dx, affine_cache)\n",
        "                \n",
        "            grads['w' + str(i + 1)] = dw + self.reg * self.params['w' + str(i + 1)]\n",
        "            grads['b' + str(i + 1)] = db\n",
        "            dout = dx\n",
        "            \n",
        "        return loss, grads"
      ]
    },
    {
      "cell_type": "markdown",
      "id": "6042ddcf",
      "metadata": {
        "id": "6042ddcf"
      },
      "source": [
        "## SGD+Momentum\n",
        "Stochastic gradient descent with momentum is a widely used update rule that tends to make deep networks converge faster than vanilla stochastic gradient descent.\n",
        "\n",
        "Here is the implementation of the SGD+momentum update rule in the function `sgd_momentum`."
      ]
    },
    {
      "cell_type": "code",
      "execution_count": 34,
      "id": "2e678506",
      "metadata": {
        "id": "2e678506"
      },
      "outputs": [],
      "source": [
        "def sgd_momentum(w, dw, config=None):\n",
        "    \"\"\"\n",
        "    Performs stochastic gradient descent with momentum.\n",
        "    Inputs:\n",
        "    - w: A numpy array giving the current weights.\n",
        "    - dw: A numpy array of the same shape as w giving the gradient of the\n",
        "    loss with respect to w.\n",
        "    - config: A dictionary containing hyperparameter values such as learning\n",
        "    rate, momentum.\n",
        "\n",
        "    Returns:\n",
        "      - next_w: The next point after the update.\n",
        "      - config: The config dictionary to be passed to the next iteration of the\n",
        "        update rule.\n",
        "\n",
        "    config format:\n",
        "    - learning_rate: Scalar learning rate.\n",
        "    - momentum: Scalar between 0 and 1 giving the momentum value.\n",
        "      Setting momentum = 0 reduces sgd_momentum to stochastic gradient descent.\n",
        "    - velocity: A numpy array of the same shape as w and dw used to store a\n",
        "      moving average of the gradients.\n",
        "    \"\"\"\n",
        "    if config is None:\n",
        "        config = {}\n",
        "    config.setdefault(\"learning_rate\", 1e-2)\n",
        "    config.setdefault(\"momentum\", 0.9)\n",
        "    v = config.get(\"velocity\", np.zeros_like(w))\n",
        "\n",
        "    next_w = None\n",
        "\n",
        "    v = config['momentum'] * v - config['learning_rate'] * dw\n",
        "    next_w = w + v\n",
        "\n",
        "    config[\"velocity\"] = v\n",
        "\n",
        "    return next_w, config"
      ]
    },
    {
      "cell_type": "markdown",
      "id": "cc30c93e",
      "metadata": {
        "id": "cc30c93e"
      },
      "source": [
        "# MNIST\n",
        "MNIST is a widely used dataset of handwritten digits that contains 60,000 handwritten digits for training a machine learning model and 10,000 handwritten digits for testing the model."
      ]
    },
    {
      "cell_type": "code",
      "execution_count": 35,
      "id": "e3fa8400",
      "metadata": {
        "colab": {
          "base_uri": "https://localhost:8080/",
          "height": 527,
          "referenced_widgets": [
            "4d86ed866fb04c57b99ae685ae09490a",
            "17f48eaccf0c456f8128e66cda22204d",
            "f6f22e39c04342109bafec0f875727e8",
            "47768b2660b14d71a051d04e917c5ac9",
            "62c405bdccc84bd18ab15281aa9c4799",
            "1a56a39e51b849048d7ee494dd4f4fdd",
            "095fc80a5f5248c3b7e38b17f142ac15",
            "2daa48afdf934445a4e2a94d61c3557c",
            "f9309aca597b453e994fcb951281f225",
            "76a6fdfeb6ca4d848f5bbcf6efb652e6",
            "23b42234a73e4e04b3935328e89b06fe",
            "8ec863f33f3b402e822e6ef131683275",
            "030f4c3121a647c5927ca44228b3396d",
            "07ebea0998be40b2bceddf87bfa9202b",
            "5e3d623c611e4497b6ae23032868bdd7",
            "88a89b766eb4455896b52f6f40a81977",
            "63466be033ae4c91ba85e89687ca3d7b",
            "1065a2f787d3479da233c6546f03c77c",
            "feb466d2a8c74dfa86a2374a978c2f70",
            "199cb28e13764de2a70d108447355cf9",
            "689f6a9f89da4b2d9ba64cfa5320d99a",
            "78952a61095a4474b6a02a133d6afe78",
            "26ce970f6ae54b1f8a9cc3afbab15dd2",
            "6160e0ae9afb4415b67b5cfe47bb1722",
            "b5dd1359a3bb4443bef0dc131930f97d",
            "24fdbe562f0f4b95b74a928e64b80f7c",
            "80a419dbfe94412c851b4e810fa42269",
            "6d135c14cbdc4b4a99335d7e3dad2a62",
            "e570009d5fce42be96b0a46c49ac3511",
            "4b941b1c07554eeabd73869dbbceaa7e",
            "81e8999cc81c41f7988e33884923b511",
            "3b7e0a13b7604d139bd98d8f37977642",
            "3dde5eb999e9488d8a14811372068bdc",
            "0214217b5b604eafa216a37dfe7b630e",
            "f0146ec7f9ea4b72ac458cde62a470d7",
            "906e68906d4f469fb921fb5ab781fc24",
            "6f47c5ee0602416f9f49307e1656a907",
            "99b4439e59ea43f8ab3e936c16244813",
            "16b5a6f9d9f748fcac635d9f4e55c3d6",
            "2f994a8ec1b54449a256cb8e4e00c4e4",
            "5cdbd9447c3c434394f650ae6b0eb1a4",
            "91be2689b98944efa842384ed99080e7",
            "373879a6f8ec4e73aa5f523df3a419fe",
            "ff41fb22c6ac49d083d6ec0d41e33e12"
          ]
        },
        "id": "e3fa8400",
        "outputId": "d590282f-8540-451f-e045-bc285ead877b"
      },
      "outputs": [
        {
          "output_type": "stream",
          "name": "stdout",
          "text": [
            "Downloading http://yann.lecun.com/exdb/mnist/train-images-idx3-ubyte.gz\n",
            "Downloading http://yann.lecun.com/exdb/mnist/train-images-idx3-ubyte.gz to ./data/MNIST/raw/train-images-idx3-ubyte.gz\n"
          ]
        },
        {
          "output_type": "display_data",
          "data": {
            "text/plain": [
              "  0%|          | 0/9912422 [00:00<?, ?it/s]"
            ],
            "application/vnd.jupyter.widget-view+json": {
              "version_major": 2,
              "version_minor": 0,
              "model_id": "4d86ed866fb04c57b99ae685ae09490a"
            }
          },
          "metadata": {}
        },
        {
          "output_type": "stream",
          "name": "stdout",
          "text": [
            "Extracting ./data/MNIST/raw/train-images-idx3-ubyte.gz to ./data/MNIST/raw\n",
            "\n",
            "Downloading http://yann.lecun.com/exdb/mnist/train-labels-idx1-ubyte.gz\n",
            "Downloading http://yann.lecun.com/exdb/mnist/train-labels-idx1-ubyte.gz to ./data/MNIST/raw/train-labels-idx1-ubyte.gz\n"
          ]
        },
        {
          "output_type": "display_data",
          "data": {
            "text/plain": [
              "  0%|          | 0/28881 [00:00<?, ?it/s]"
            ],
            "application/vnd.jupyter.widget-view+json": {
              "version_major": 2,
              "version_minor": 0,
              "model_id": "8ec863f33f3b402e822e6ef131683275"
            }
          },
          "metadata": {}
        },
        {
          "output_type": "stream",
          "name": "stdout",
          "text": [
            "Extracting ./data/MNIST/raw/train-labels-idx1-ubyte.gz to ./data/MNIST/raw\n",
            "\n",
            "Downloading http://yann.lecun.com/exdb/mnist/t10k-images-idx3-ubyte.gz\n",
            "Downloading http://yann.lecun.com/exdb/mnist/t10k-images-idx3-ubyte.gz to ./data/MNIST/raw/t10k-images-idx3-ubyte.gz\n"
          ]
        },
        {
          "output_type": "display_data",
          "data": {
            "text/plain": [
              "  0%|          | 0/1648877 [00:00<?, ?it/s]"
            ],
            "application/vnd.jupyter.widget-view+json": {
              "version_major": 2,
              "version_minor": 0,
              "model_id": "26ce970f6ae54b1f8a9cc3afbab15dd2"
            }
          },
          "metadata": {}
        },
        {
          "output_type": "stream",
          "name": "stdout",
          "text": [
            "Extracting ./data/MNIST/raw/t10k-images-idx3-ubyte.gz to ./data/MNIST/raw\n",
            "\n",
            "Downloading http://yann.lecun.com/exdb/mnist/t10k-labels-idx1-ubyte.gz\n",
            "Downloading http://yann.lecun.com/exdb/mnist/t10k-labels-idx1-ubyte.gz to ./data/MNIST/raw/t10k-labels-idx1-ubyte.gz\n"
          ]
        },
        {
          "output_type": "display_data",
          "data": {
            "text/plain": [
              "  0%|          | 0/4542 [00:00<?, ?it/s]"
            ],
            "application/vnd.jupyter.widget-view+json": {
              "version_major": 2,
              "version_minor": 0,
              "model_id": "0214217b5b604eafa216a37dfe7b630e"
            }
          },
          "metadata": {}
        },
        {
          "output_type": "stream",
          "name": "stdout",
          "text": [
            "Extracting ./data/MNIST/raw/t10k-labels-idx1-ubyte.gz to ./data/MNIST/raw\n",
            "\n",
            "Train data shape:  (50000, 784)\n",
            "Train labels shape:  (50000,)\n",
            "Validation data shape:  (10000, 784)\n",
            "Validation labels shape:  (10000,)\n",
            "Test data shape:  (10000, 784)\n",
            "Test labels shape:  (10000,)\n"
          ]
        }
      ],
      "source": [
        "X_train, y_train, X_val, y_val, X_test, y_test = get_MNIST_data()\n",
        "print('Train data shape: ', X_train.shape)\n",
        "print('Train labels shape: ', y_train.shape)\n",
        "print('Validation data shape: ', X_val.shape)\n",
        "print('Validation labels shape: ', y_val.shape)\n",
        "print('Test data shape: ', X_test.shape)\n",
        "print('Test labels shape: ', y_test.shape)"
      ]
    },
    {
      "cell_type": "code",
      "execution_count": 36,
      "id": "1e15a728",
      "metadata": {
        "colab": {
          "base_uri": "https://localhost:8080/",
          "height": 476
        },
        "id": "1e15a728",
        "outputId": "8d5ba998-76de-43bc-f380-73fa527d39c2"
      },
      "outputs": [
        {
          "output_type": "display_data",
          "data": {
            "text/plain": [
              "<Figure size 720x576 with 70 Axes>"
            ],
            "image/png": "[encoded data removed]"
          },
          "metadata": {
            "needs_background": "light"
          }
        }
      ],
      "source": [
        "# Visualize some examples from the dataset.\n",
        "# We show a few examples of training images from each class.\n",
        "classes = list(range(10))\n",
        "num_classes = len(classes)\n",
        "samples_per_class = 7\n",
        "for y, cls in enumerate(classes):\n",
        "    idxs = np.flatnonzero(y_train == y)\n",
        "    idxs = np.random.choice(idxs, samples_per_class, replace=False)\n",
        "    for i, idx in enumerate(idxs):\n",
        "        plt_idx = i * num_classes + y + 1\n",
        "        plt.subplot(samples_per_class, num_classes, plt_idx)\n",
        "        plt.imshow(X_train[idx].reshape((28, 28)))\n",
        "        plt.axis('off')\n",
        "        if i == 0:\n",
        "            plt.title(cls)\n",
        "plt.show()"
      ]
    },
    {
      "cell_type": "markdown",
      "id": "ca6ad76a",
      "metadata": {
        "id": "ca6ad76a"
      },
      "source": [
        "Data normalization is an important step which ensures that each input parameter has a similar data distribution. This makes convergence faster while training the network."
      ]
    },
    {
      "cell_type": "code",
      "execution_count": 37,
      "id": "ea87dfbb",
      "metadata": {
        "colab": {
          "base_uri": "https://localhost:8080/"
        },
        "id": "ea87dfbb",
        "outputId": "0ddbb97a-a908-49b1-d2f4-a75cbbbcebd1"
      },
      "outputs": [
        {
          "output_type": "stream",
          "name": "stderr",
          "text": [
            "/content/codes/MNIST_data.py:45: RuntimeWarning: invalid value encountered in true_divide\n",
            "  return X_train / std, X_val / std, X_test / std\n",
            "/content/codes/MNIST_data.py:45: RuntimeWarning: divide by zero encountered in true_divide\n",
            "  return X_train / std, X_val / std, X_test / std\n"
          ]
        }
      ],
      "source": [
        "X_train, X_val, X_test = get_normalized_MNIST_data(X_train, X_val, X_test)"
      ]
    },
    {
      "cell_type": "markdown",
      "id": "3ed0af35",
      "metadata": {
        "id": "3ed0af35"
      },
      "source": [
        "# Train a Model!"
      ]
    },
    {
      "cell_type": "code",
      "execution_count": null,
      "id": "5d59d748",
      "metadata": {
        "id": "5d59d748",
        "outputId": "d9c6be5d-06f8-4fd6-9cc6-5b81f984efe4"
      },
      "outputs": [
        {
          "name": "stdout",
          "output_type": "stream",
          "text": [
            "(Iteration 1 / 1250) loss: 2.305886\n",
            "(Epoch 0 / 5) train acc: 0.074000; val_acc: 0.086300\n",
            "(Iteration 101 / 1250) loss: 1.172810\n",
            "(Iteration 201 / 1250) loss: 0.472909\n",
            "(Epoch 1 / 5) train acc: 0.939000; val_acc: 0.946200\n",
            "(Iteration 301 / 1250) loss: 0.297350\n",
            "(Iteration 401 / 1250) loss: 0.226044\n",
            "(Epoch 2 / 5) train acc: 0.971000; val_acc: 0.966000\n",
            "(Iteration 501 / 1250) loss: 0.194716\n",
            "(Iteration 601 / 1250) loss: 0.130659\n",
            "(Iteration 701 / 1250) loss: 0.135241\n",
            "(Epoch 3 / 5) train acc: 0.985000; val_acc: 0.970800\n",
            "(Iteration 801 / 1250) loss: 0.109035\n",
            "(Iteration 901 / 1250) loss: 0.097759\n",
            "(Epoch 4 / 5) train acc: 0.989000; val_acc: 0.973300\n",
            "(Iteration 1001 / 1250) loss: 0.124812\n",
            "(Iteration 1101 / 1250) loss: 0.094500\n",
            "(Iteration 1201 / 1250) loss: 0.056207\n",
            "(Epoch 5 / 5) train acc: 0.989000; val_acc: 0.976300\n"
          ]
        }
      ],
      "source": [
        "MNIST_best_model = None\n",
        "\n",
        "data = {\n",
        "    'X_train': X_train,\n",
        "    'y_train': y_train.astype(int),\n",
        "    'X_val': X_val,\n",
        "    'y_val': y_val.astype(int),\n",
        "    'X_test': X_test,\n",
        "    'y_test': y_test.astype(int)\n",
        "    }\n",
        "\n",
        "model = FullyConnectedNet(\n",
        "    'classification', \n",
        "    [120, 100, 80],\n",
        "    [False, True, True],\n",
        "    dtype=np.float64\n",
        ")\n",
        "solver = Solver(model, data,\n",
        "                update_rule=sgd_momentum,\n",
        "                optim_config={\n",
        "                  'learning_rate': 1e-3,\n",
        "                },\n",
        "                lr_decay=0.95,\n",
        "                num_epochs=5, batch_size=200,\n",
        "                print_every=100)\n",
        "solver.train()\n",
        "\n",
        "MNIST_solver = solver\n",
        "MNIST_best_model = model"
      ]
    },
    {
      "cell_type": "code",
      "execution_count": null,
      "id": "25f8a45b",
      "metadata": {
        "id": "25f8a45b",
        "outputId": "9e978f7e-7f16-4eee-c797-93d3b3dc340e"
      },
      "outputs": [
        {
          "data": {
            "image/png": "[encoded data removed]",
            "text/plain": [
              "<Figure size 1080x864 with 2 Axes>"
            ]
          },
          "metadata": {
            "needs_background": "light"
          },
          "output_type": "display_data"
        }
      ],
      "source": [
        "# Visualize training loss and train / val accuracy\n",
        "\n",
        "plt.subplot(2, 1, 1)\n",
        "plt.title('Training loss')\n",
        "plt.plot(MNIST_solver.loss_history, 'o')\n",
        "plt.xlabel('Iteration')\n",
        "\n",
        "plt.subplot(2, 1, 2)\n",
        "plt.title('Accuracy')\n",
        "plt.plot(MNIST_solver.train_acc_history, '-o', label='train')\n",
        "plt.plot(MNIST_solver.val_acc_history, '-o', label='val')\n",
        "plt.plot([0.9] * len(MNIST_solver.val_acc_history), 'k--')\n",
        "plt.xlabel('Epoch')\n",
        "plt.legend(loc='lower right')\n",
        "plt.gcf().set_size_inches(15, 12)\n",
        "plt.show()"
      ]
    },
    {
      "cell_type": "markdown",
      "id": "19ff7e18",
      "metadata": {
        "id": "19ff7e18"
      },
      "source": [
        "# Test The Model!"
      ]
    },
    {
      "cell_type": "code",
      "execution_count": null,
      "id": "3df244fa",
      "metadata": {
        "id": "3df244fa",
        "outputId": "812d373e-b1a6-41a0-8a08-6930ce0e140f"
      },
      "outputs": [
        {
          "name": "stdout",
          "output_type": "stream",
          "text": [
            "Validation set accuracy:  0.9763\n",
            "Test set accuracy:  0.9733\n"
          ]
        }
      ],
      "source": [
        "y_test_pred = np.argmax(MNIST_best_model.loss(data['X_test']), axis=1)\n",
        "y_val_pred = np.argmax(MNIST_best_model.loss(data['X_val']), axis=1)\n",
        "print('Validation set accuracy: ', (y_val_pred == data['y_val']).mean())\n",
        "print('Test set accuracy: ', (y_test_pred == data['y_test']).mean())"
      ]
    },
    {
      "cell_type": "markdown",
      "id": "5e9b7aa1",
      "metadata": {
        "id": "5e9b7aa1"
      },
      "source": [
        "# California housing dataset\n",
        "This is a dataset obtained from the [StatLib repository](https://www.dcc.fc.up.pt/~ltorgo/Regression/cal_housing.html). The data pertains to the houses found in a given California district and some summary stats about them based on the 1990 census data."
      ]
    },
    {
      "cell_type": "code",
      "execution_count": null,
      "id": "b1ee041f",
      "metadata": {
        "id": "b1ee041f",
        "outputId": "1e5773ca-724e-4ac4-90b1-e99a1414fb2a"
      },
      "outputs": [
        {
          "data": {
            "text/html": [
              "<div>\n",
              "<style scoped>\n",
              "    .dataframe tbody tr th:only-of-type {\n",
              "        vertical-align: middle;\n",
              "    }\n",
              "\n",
              "    .dataframe tbody tr th {\n",
              "        vertical-align: top;\n",
              "    }\n",
              "\n",
              "    .dataframe thead th {\n",
              "        text-align: right;\n",
              "    }\n",
              "</style>\n",
              "<table border=\"1\" class=\"dataframe\">\n",
              "  <thead>\n",
              "    <tr style=\"text-align: right;\">\n",
              "      <th></th>\n",
              "      <th>MedInc</th>\n",
              "      <th>HouseAge</th>\n",
              "      <th>AveRooms</th>\n",
              "      <th>AveBedrms</th>\n",
              "      <th>Population</th>\n",
              "      <th>AveOccup</th>\n",
              "      <th>Latitude</th>\n",
              "      <th>Longitude</th>\n",
              "      <th>MedHouseVal</th>\n",
              "    </tr>\n",
              "  </thead>\n",
              "  <tbody>\n",
              "    <tr>\n",
              "      <th>0</th>\n",
              "      <td>8.3252</td>\n",
              "      <td>41.0</td>\n",
              "      <td>6.984127</td>\n",
              "      <td>1.023810</td>\n",
              "      <td>322.0</td>\n",
              "      <td>2.555556</td>\n",
              "      <td>37.88</td>\n",
              "      <td>-122.23</td>\n",
              "      <td>4.526</td>\n",
              "    </tr>\n",
              "    <tr>\n",
              "      <th>1</th>\n",
              "      <td>8.3014</td>\n",
              "      <td>21.0</td>\n",
              "      <td>6.238137</td>\n",
              "      <td>0.971880</td>\n",
              "      <td>2401.0</td>\n",
              "      <td>2.109842</td>\n",
              "      <td>37.86</td>\n",
              "      <td>-122.22</td>\n",
              "      <td>3.585</td>\n",
              "    </tr>\n",
              "    <tr>\n",
              "      <th>2</th>\n",
              "      <td>7.2574</td>\n",
              "      <td>52.0</td>\n",
              "      <td>8.288136</td>\n",
              "      <td>1.073446</td>\n",
              "      <td>496.0</td>\n",
              "      <td>2.802260</td>\n",
              "      <td>37.85</td>\n",
              "      <td>-122.24</td>\n",
              "      <td>3.521</td>\n",
              "    </tr>\n",
              "    <tr>\n",
              "      <th>3</th>\n",
              "      <td>5.6431</td>\n",
              "      <td>52.0</td>\n",
              "      <td>5.817352</td>\n",
              "      <td>1.073059</td>\n",
              "      <td>558.0</td>\n",
              "      <td>2.547945</td>\n",
              "      <td>37.85</td>\n",
              "      <td>-122.25</td>\n",
              "      <td>3.413</td>\n",
              "    </tr>\n",
              "    <tr>\n",
              "      <th>4</th>\n",
              "      <td>3.8462</td>\n",
              "      <td>52.0</td>\n",
              "      <td>6.281853</td>\n",
              "      <td>1.081081</td>\n",
              "      <td>565.0</td>\n",
              "      <td>2.181467</td>\n",
              "      <td>37.85</td>\n",
              "      <td>-122.25</td>\n",
              "      <td>3.422</td>\n",
              "    </tr>\n",
              "  </tbody>\n",
              "</table>\n",
              "</div>"
            ],
            "text/plain": [
              "   MedInc  HouseAge  AveRooms  AveBedrms  Population  AveOccup  Latitude  \\\n",
              "0  8.3252      41.0  6.984127   1.023810       322.0  2.555556     37.88   \n",
              "1  8.3014      21.0  6.238137   0.971880      2401.0  2.109842     37.86   \n",
              "2  7.2574      52.0  8.288136   1.073446       496.0  2.802260     37.85   \n",
              "3  5.6431      52.0  5.817352   1.073059       558.0  2.547945     37.85   \n",
              "4  3.8462      52.0  6.281853   1.081081       565.0  2.181467     37.85   \n",
              "\n",
              "   Longitude  MedHouseVal  \n",
              "0    -122.23        4.526  \n",
              "1    -122.22        3.585  \n",
              "2    -122.24        3.521  \n",
              "3    -122.25        3.413  \n",
              "4    -122.25        3.422  "
            ]
          },
          "execution_count": 159,
          "metadata": {},
          "output_type": "execute_result"
        }
      ],
      "source": [
        "california_housing = fetch_california_housing(as_frame=True)\n",
        "california_housing.frame.head()"
      ]
    },
    {
      "cell_type": "code",
      "execution_count": null,
      "id": "bbc5ad10",
      "metadata": {
        "id": "bbc5ad10",
        "outputId": "9878528b-f9c8-42b8-bda4-430e3f38a0d7"
      },
      "outputs": [
        {
          "name": "stdout",
          "output_type": "stream",
          "text": [
            "Train data shape:  (15640, 8)\n",
            "Train target values shape:  (15640,)\n",
            "Validation data shape:  (2500, 8)\n",
            "Validation target values shape:  (2500,)\n",
            "Test data shape:  (2500, 8)\n",
            "Test target values shape:  (2500,)\n"
          ]
        }
      ],
      "source": [
        "X_train, y_train, X_val, y_val, X_test, y_test = get_california_housing_data()\n",
        "print('Train data shape: ', X_train.shape)\n",
        "print('Train target values shape: ', y_train.shape)\n",
        "print('Validation data shape: ', X_val.shape)\n",
        "print('Validation target values shape: ', y_val.shape)\n",
        "print('Test data shape: ', X_test.shape)\n",
        "print('Test target values shape: ', y_test.shape)"
      ]
    },
    {
      "cell_type": "code",
      "execution_count": null,
      "id": "30a1eeb3",
      "metadata": {
        "id": "30a1eeb3"
      },
      "outputs": [],
      "source": [
        "X_train, X_val, X_test = get_california_housing_normalized__data(X_train, X_val, X_test)"
      ]
    },
    {
      "cell_type": "markdown",
      "id": "a1179b5c",
      "metadata": {
        "id": "a1179b5c"
      },
      "source": [
        "# Train a Model!"
      ]
    },
    {
      "cell_type": "code",
      "execution_count": null,
      "id": "2fae7eca",
      "metadata": {
        "id": "2fae7eca",
        "outputId": "48f3c92a-5657-4917-c4dd-9fc8248bbed3"
      },
      "outputs": [
        {
          "name": "stdout",
          "output_type": "stream",
          "text": [
            "(Iteration 1 / 390) loss: 3.249017\n",
            "(Epoch 0 / 5) train RMS error: 2.000721; val RMS error: 2.600033\n",
            "(Epoch 1 / 5) train RMS error: 1.206121; val RMS error: 1.552999\n",
            "(Iteration 101 / 390) loss: 1.670250\n",
            "(Epoch 2 / 5) train RMS error: 1.284745; val RMS error: 1.529322\n",
            "(Iteration 201 / 390) loss: 1.550910\n",
            "(Epoch 3 / 5) train RMS error: 1.225156; val RMS error: 1.519381\n",
            "(Iteration 301 / 390) loss: 1.434795\n",
            "(Epoch 4 / 5) train RMS error: 1.180216; val RMS error: 1.542903\n",
            "(Epoch 5 / 5) train RMS error: 1.199541; val RMS error: 1.542804\n"
          ]
        }
      ],
      "source": [
        "california_housing_best_model = None\n",
        "\n",
        "data = {\n",
        "    'X_train': X_train,\n",
        "    'y_train': y_train.astype(int),\n",
        "    'X_val': X_val,\n",
        "    'y_val': y_val.astype(int),\n",
        "    'X_test': X_test,\n",
        "    'y_test': y_test.astype(int)\n",
        "    }\n",
        "\n",
        "model = FullyConnectedNet(\n",
        "    'regression', \n",
        "    [120, 100, 80],\n",
        "    [False, True,True],\n",
        "    input_dim=8,\n",
        "    output_dim=1,\n",
        "    dtype=np.float64\n",
        ")\n",
        "solver = Solver(model, data,\n",
        "                update_rule=sgd_momentum,\n",
        "                optim_config={\n",
        "                  'learning_rate': 1e-3,\n",
        "                },\n",
        "                lr_decay=0.95,\n",
        "                num_epochs=5, batch_size=200,\n",
        "                print_every=100)\n",
        "solver.train()\n",
        "\n",
        "california_housing_solver = solver\n",
        "california_housing_best_model = model"
      ]
    },
    {
      "cell_type": "code",
      "execution_count": null,
      "id": "43e51742",
      "metadata": {
        "id": "43e51742",
        "outputId": "8ed20633-9a71-4ef3-a36d-6b0a955f2f97"
      },
      "outputs": [
        {
          "data": {
            "image/png": "[encoded data removed]",
            "text/plain": [
              "<Figure size 1080x864 with 2 Axes>"
            ]
          },
          "metadata": {
            "needs_background": "light"
          },
          "output_type": "display_data"
        }
      ],
      "source": [
        "# visualize training loss and train / val RMS error\n",
        "\n",
        "plt.subplot(2, 1, 1)\n",
        "plt.title('Training loss')\n",
        "plt.plot(california_housing_solver.loss_history, 'o')\n",
        "plt.xlabel('Iteration')\n",
        "\n",
        "plt.subplot(2, 1, 2)\n",
        "plt.title('RMS Error')\n",
        "plt.plot(california_housing_solver.train_acc_history, '-o', label='train')\n",
        "plt.plot(california_housing_solver.val_acc_history, '-o', label='val')\n",
        "plt.xlabel('Epoch')\n",
        "plt.legend(loc='lower right')\n",
        "plt.gcf().set_size_inches(15, 12)\n",
        "plt.show()"
      ]
    }
  ],
  "metadata": {
    "kernelspec": {
      "display_name": "Python 3 (ipykernel)",
      "language": "python",
      "name": "python3"
    },
    "language_info": {
      "codemirror_mode": {
        "name": "ipython",
        "version": 3
      },
      "file_extension": ".py",
      "mimetype": "text/x-python",
      "name": "python",
      "nbconvert_exporter": "python",
      "pygments_lexer": "ipython3",
      "version": "3.9.12"
    },
    "colab": {
      "provenance": [],
      "collapsed_sections": [
        "57c3af9e"
      ]
    },
    "widgets": {
      "application/vnd.jupyter.widget-state+json": {
        "4d86ed866fb04c57b99ae685ae09490a": {
          "model_module": "@jupyter-widgets/controls",
          "model_name": "HBoxModel",
          "model_module_version": "1.5.0",
          "state": {
            "_dom_classes": [],
            "_model_module": "@jupyter-widgets/controls",
            "_model_module_version": "1.5.0",
            "_model_name": "HBoxModel",
            "_view_count": null,
            "_view_module": "@jupyter-widgets/controls",
            "_view_module_version": "1.5.0",
            "_view_name": "HBoxView",
            "box_style": "",
            "children": [
              "IPY_MODEL_17f48eaccf0c456f8128e66cda22204d",
              "IPY_MODEL_f6f22e39c04342109bafec0f875727e8",
              "IPY_MODEL_47768b2660b14d71a051d04e917c5ac9"
            ],
            "layout": "IPY_MODEL_62c405bdccc84bd18ab15281aa9c4799"
          }
        },
        "17f48eaccf0c456f8128e66cda22204d": {
          "model_module": "@jupyter-widgets/controls",
          "model_name": "HTMLModel",
          "model_module_version": "1.5.0",
          "state": {
            "_dom_classes": [],
            "_model_module": "@jupyter-widgets/controls",
            "_model_module_version": "1.5.0",
            "_model_name": "HTMLModel",
            "_view_count": null,
            "_view_module": "@jupyter-widgets/controls",
            "_view_module_version": "1.5.0",
            "_view_name": "HTMLView",
            "description": "",
            "description_tooltip": null,
            "layout": "IPY_MODEL_1a56a39e51b849048d7ee494dd4f4fdd",
            "placeholder": "​",
            "style": "IPY_MODEL_095fc80a5f5248c3b7e38b17f142ac15",
            "value": "100%"
          }
        },
        "f6f22e39c04342109bafec0f875727e8": {
          "model_module": "@jupyter-widgets/controls",
          "model_name": "FloatProgressModel",
          "model_module_version": "1.5.0",
          "state": {
            "_dom_classes": [],
            "_model_module": "@jupyter-widgets/controls",
            "_model_module_version": "1.5.0",
            "_model_name": "FloatProgressModel",
            "_view_count": null,
            "_view_module": "@jupyter-widgets/controls",
            "_view_module_version": "1.5.0",
            "_view_name": "ProgressView",
            "bar_style": "success",
            "description": "",
            "description_tooltip": null,
            "layout": "IPY_MODEL_2daa48afdf934445a4e2a94d61c3557c",
            "max": 9912422,
            "min": 0,
            "orientation": "horizontal",
            "style": "IPY_MODEL_f9309aca597b453e994fcb951281f225",
            "value": 9912422
          }
        },
        "47768b2660b14d71a051d04e917c5ac9": {
          "model_module": "@jupyter-widgets/controls",
          "model_name": "HTMLModel",
          "model_module_version": "1.5.0",
          "state": {
            "_dom_classes": [],
            "_model_module": "@jupyter-widgets/controls",
            "_model_module_version": "1.5.0",
            "_model_name": "HTMLModel",
            "_view_count": null,
            "_view_module": "@jupyter-widgets/controls",
            "_view_module_version": "1.5.0",
            "_view_name": "HTMLView",
            "description": "",
            "description_tooltip": null,
            "layout": "IPY_MODEL_76a6fdfeb6ca4d848f5bbcf6efb652e6",
            "placeholder": "​",
            "style": "IPY_MODEL_23b42234a73e4e04b3935328e89b06fe",
            "value": " 9912422/9912422 [00:00&lt;00:00, 149353064.40it/s]"
          }
        },
        "62c405bdccc84bd18ab15281aa9c4799": {
          "model_module": "@jupyter-widgets/base",
          "model_name": "LayoutModel",
          "model_module_version": "1.2.0",
          "state": {
            "_model_module": "@jupyter-widgets/base",
            "_model_module_version": "1.2.0",
            "_model_name": "LayoutModel",
            "_view_count": null,
            "_view_module": "@jupyter-widgets/base",
            "_view_module_version": "1.2.0",
            "_view_name": "LayoutView",
            "align_content": null,
            "align_items": null,
            "align_self": null,
            "border": null,
            "bottom": null,
            "display": null,
            "flex": null,
            "flex_flow": null,
            "grid_area": null,
            "grid_auto_columns": null,
            "grid_auto_flow": null,
            "grid_auto_rows": null,
            "grid_column": null,
            "grid_gap": null,
            "grid_row": null,
            "grid_template_areas": null,
            "grid_template_columns": null,
            "grid_template_rows": null,
            "height": null,
            "justify_content": null,
            "justify_items": null,
            "left": null,
            "margin": null,
            "max_height": null,
            "max_width": null,
            "min_height": null,
            "min_width": null,
            "object_fit": null,
            "object_position": null,
            "order": null,
            "overflow": null,
            "overflow_x": null,
            "overflow_y": null,
            "padding": null,
            "right": null,
            "top": null,
            "visibility": null,
            "width": null
          }
        },
        "1a56a39e51b849048d7ee494dd4f4fdd": {
          "model_module": "@jupyter-widgets/base",
          "model_name": "LayoutModel",
          "model_module_version": "1.2.0",
          "state": {
            "_model_module": "@jupyter-widgets/base",
            "_model_module_version": "1.2.0",
            "_model_name": "LayoutModel",
            "_view_count": null,
            "_view_module": "@jupyter-widgets/base",
            "_view_module_version": "1.2.0",
            "_view_name": "LayoutView",
            "align_content": null,
            "align_items": null,
            "align_self": null,
            "border": null,
            "bottom": null,
            "display": null,
            "flex": null,
            "flex_flow": null,
            "grid_area": null,
            "grid_auto_columns": null,
            "grid_auto_flow": null,
            "grid_auto_rows": null,
            "grid_column": null,
            "grid_gap": null,
            "grid_row": null,
            "grid_template_areas": null,
            "grid_template_columns": null,
            "grid_template_rows": null,
            "height": null,
            "justify_content": null,
            "justify_items": null,
            "left": null,
            "margin": null,
            "max_height": null,
            "max_width": null,
            "min_height": null,
            "min_width": null,
            "object_fit": null,
            "object_position": null,
            "order": null,
            "overflow": null,
            "overflow_x": null,
            "overflow_y": null,
            "padding": null,
            "right": null,
            "top": null,
            "visibility": null,
            "width": null
          }
        },
        "095fc80a5f5248c3b7e38b17f142ac15": {
          "model_module": "@jupyter-widgets/controls",
          "model_name": "DescriptionStyleModel",
          "model_module_version": "1.5.0",
          "state": {
            "_model_module": "@jupyter-widgets/controls",
            "_model_module_version": "1.5.0",
            "_model_name": "DescriptionStyleModel",
            "_view_count": null,
            "_view_module": "@jupyter-widgets/base",
            "_view_module_version": "1.2.0",
            "_view_name": "StyleView",
            "description_width": ""
          }
        },
        "2daa48afdf934445a4e2a94d61c3557c": {
          "model_module": "@jupyter-widgets/base",
          "model_name": "LayoutModel",
          "model_module_version": "1.2.0",
          "state": {
            "_model_module": "@jupyter-widgets/base",
            "_model_module_version": "1.2.0",
            "_model_name": "LayoutModel",
            "_view_count": null,
            "_view_module": "@jupyter-widgets/base",
            "_view_module_version": "1.2.0",
            "_view_name": "LayoutView",
            "align_content": null,
            "align_items": null,
            "align_self": null,
            "border": null,
            "bottom": null,
            "display": null,
            "flex": null,
            "flex_flow": null,
            "grid_area": null,
            "grid_auto_columns": null,
            "grid_auto_flow": null,
            "grid_auto_rows": null,
            "grid_column": null,
            "grid_gap": null,
            "grid_row": null,
            "grid_template_areas": null,
            "grid_template_columns": null,
            "grid_template_rows": null,
            "height": null,
            "justify_content": null,
            "justify_items": null,
            "left": null,
            "margin": null,
            "max_height": null,
            "max_width": null,
            "min_height": null,
            "min_width": null,
            "object_fit": null,
            "object_position": null,
            "order": null,
            "overflow": null,
            "overflow_x": null,
            "overflow_y": null,
            "padding": null,
            "right": null,
            "top": null,
            "visibility": null,
            "width": null
          }
        },
        "f9309aca597b453e994fcb951281f225": {
          "model_module": "@jupyter-widgets/controls",
          "model_name": "ProgressStyleModel",
          "model_module_version": "1.5.0",
          "state": {
            "_model_module": "@jupyter-widgets/controls",
            "_model_module_version": "1.5.0",
            "_model_name": "ProgressStyleModel",
            "_view_count": null,
            "_view_module": "@jupyter-widgets/base",
            "_view_module_version": "1.2.0",
            "_view_name": "StyleView",
            "bar_color": null,
            "description_width": ""
          }
        },
        "76a6fdfeb6ca4d848f5bbcf6efb652e6": {
          "model_module": "@jupyter-widgets/base",
          "model_name": "LayoutModel",
          "model_module_version": "1.2.0",
          "state": {
            "_model_module": "@jupyter-widgets/base",
            "_model_module_version": "1.2.0",
            "_model_name": "LayoutModel",
            "_view_count": null,
            "_view_module": "@jupyter-widgets/base",
            "_view_module_version": "1.2.0",
            "_view_name": "LayoutView",
            "align_content": null,
            "align_items": null,
            "align_self": null,
            "border": null,
            "bottom": null,
            "display": null,
            "flex": null,
            "flex_flow": null,
            "grid_area": null,
            "grid_auto_columns": null,
            "grid_auto_flow": null,
            "grid_auto_rows": null,
            "grid_column": null,
            "grid_gap": null,
            "grid_row": null,
            "grid_template_areas": null,
            "grid_template_columns": null,
            "grid_template_rows": null,
            "height": null,
            "justify_content": null,
            "justify_items": null,
            "left": null,
            "margin": null,
            "max_height": null,
            "max_width": null,
            "min_height": null,
            "min_width": null,
            "object_fit": null,
            "object_position": null,
            "order": null,
            "overflow": null,
            "overflow_x": null,
            "overflow_y": null,
            "padding": null,
            "right": null,
            "top": null,
            "visibility": null,
            "width": null
          }
        },
        "23b42234a73e4e04b3935328e89b06fe": {
          "model_module": "@jupyter-widgets/controls",
          "model_name": "DescriptionStyleModel",
          "model_module_version": "1.5.0",
          "state": {
            "_model_module": "@jupyter-widgets/controls",
            "_model_module_version": "1.5.0",
            "_model_name": "DescriptionStyleModel",
            "_view_count": null,
            "_view_module": "@jupyter-widgets/base",
            "_view_module_version": "1.2.0",
            "_view_name": "StyleView",
            "description_width": ""
          }
        },
        "8ec863f33f3b402e822e6ef131683275": {
          "model_module": "@jupyter-widgets/controls",
          "model_name": "HBoxModel",
          "model_module_version": "1.5.0",
          "state": {
            "_dom_classes": [],
            "_model_module": "@jupyter-widgets/controls",
            "_model_module_version": "1.5.0",
            "_model_name": "HBoxModel",
            "_view_count": null,
            "_view_module": "@jupyter-widgets/controls",
            "_view_module_version": "1.5.0",
            "_view_name": "HBoxView",
            "box_style": "",
            "children": [
              "IPY_MODEL_030f4c3121a647c5927ca44228b3396d",
              "IPY_MODEL_07ebea0998be40b2bceddf87bfa9202b",
              "IPY_MODEL_5e3d623c611e4497b6ae23032868bdd7"
            ],
            "layout": "IPY_MODEL_88a89b766eb4455896b52f6f40a81977"
          }
        },
        "030f4c3121a647c5927ca44228b3396d": {
          "model_module": "@jupyter-widgets/controls",
          "model_name": "HTMLModel",
          "model_module_version": "1.5.0",
          "state": {
            "_dom_classes": [],
            "_model_module": "@jupyter-widgets/controls",
            "_model_module_version": "1.5.0",
            "_model_name": "HTMLModel",
            "_view_count": null,
            "_view_module": "@jupyter-widgets/controls",
            "_view_module_version": "1.5.0",
            "_view_name": "HTMLView",
            "description": "",
            "description_tooltip": null,
            "layout": "IPY_MODEL_63466be033ae4c91ba85e89687ca3d7b",
            "placeholder": "​",
            "style": "IPY_MODEL_1065a2f787d3479da233c6546f03c77c",
            "value": "100%"
          }
        },
        "07ebea0998be40b2bceddf87bfa9202b": {
          "model_module": "@jupyter-widgets/controls",
          "model_name": "FloatProgressModel",
          "model_module_version": "1.5.0",
          "state": {
            "_dom_classes": [],
            "_model_module": "@jupyter-widgets/controls",
            "_model_module_version": "1.5.0",
            "_model_name": "FloatProgressModel",
            "_view_count": null,
            "_view_module": "@jupyter-widgets/controls",
            "_view_module_version": "1.5.0",
            "_view_name": "ProgressView",
            "bar_style": "success",
            "description": "",
            "description_tooltip": null,
            "layout": "IPY_MODEL_feb466d2a8c74dfa86a2374a978c2f70",
            "max": 28881,
            "min": 0,
            "orientation": "horizontal",
            "style": "IPY_MODEL_199cb28e13764de2a70d108447355cf9",
            "value": 28881
          }
        },
        "5e3d623c611e4497b6ae23032868bdd7": {
          "model_module": "@jupyter-widgets/controls",
          "model_name": "HTMLModel",
          "model_module_version": "1.5.0",
          "state": {
            "_dom_classes": [],
            "_model_module": "@jupyter-widgets/controls",
            "_model_module_version": "1.5.0",
            "_model_name": "HTMLModel",
            "_view_count": null,
            "_view_module": "@jupyter-widgets/controls",
            "_view_module_version": "1.5.0",
            "_view_name": "HTMLView",
            "description": "",
            "description_tooltip": null,
            "layout": "IPY_MODEL_689f6a9f89da4b2d9ba64cfa5320d99a",
            "placeholder": "​",
            "style": "IPY_MODEL_78952a61095a4474b6a02a133d6afe78",
            "value": " 28881/28881 [00:00&lt;00:00, 1158649.95it/s]"
          }
        },
        "88a89b766eb4455896b52f6f40a81977": {
          "model_module": "@jupyter-widgets/base",
          "model_name": "LayoutModel",
          "model_module_version": "1.2.0",
          "state": {
            "_model_module": "@jupyter-widgets/base",
            "_model_module_version": "1.2.0",
            "_model_name": "LayoutModel",
            "_view_count": null,
            "_view_module": "@jupyter-widgets/base",
            "_view_module_version": "1.2.0",
            "_view_name": "LayoutView",
            "align_content": null,
            "align_items": null,
            "align_self": null,
            "border": null,
            "bottom": null,
            "display": null,
            "flex": null,
            "flex_flow": null,
            "grid_area": null,
            "grid_auto_columns": null,
            "grid_auto_flow": null,
            "grid_auto_rows": null,
            "grid_column": null,
            "grid_gap": null,
            "grid_row": null,
            "grid_template_areas": null,
            "grid_template_columns": null,
            "grid_template_rows": null,
            "height": null,
            "justify_content": null,
            "justify_items": null,
            "left": null,
            "margin": null,
            "max_height": null,
            "max_width": null,
            "min_height": null,
            "min_width": null,
            "object_fit": null,
            "object_position": null,
            "order": null,
            "overflow": null,
            "overflow_x": null,
            "overflow_y": null,
            "padding": null,
            "right": null,
            "top": null,
            "visibility": null,
            "width": null
          }
        },
        "63466be033ae4c91ba85e89687ca3d7b": {
          "model_module": "@jupyter-widgets/base",
          "model_name": "LayoutModel",
          "model_module_version": "1.2.0",
          "state": {
            "_model_module": "@jupyter-widgets/base",
            "_model_module_version": "1.2.0",
            "_model_name": "LayoutModel",
            "_view_count": null,
            "_view_module": "@jupyter-widgets/base",
            "_view_module_version": "1.2.0",
            "_view_name": "LayoutView",
            "align_content": null,
            "align_items": null,
            "align_self": null,
            "border": null,
            "bottom": null,
            "display": null,
            "flex": null,
            "flex_flow": null,
            "grid_area": null,
            "grid_auto_columns": null,
            "grid_auto_flow": null,
            "grid_auto_rows": null,
            "grid_column": null,
            "grid_gap": null,
            "grid_row": null,
            "grid_template_areas": null,
            "grid_template_columns": null,
            "grid_template_rows": null,
            "height": null,
            "justify_content": null,
            "justify_items": null,
            "left": null,
            "margin": null,
            "max_height": null,
            "max_width": null,
            "min_height": null,
            "min_width": null,
            "object_fit": null,
            "object_position": null,
            "order": null,
            "overflow": null,
            "overflow_x": null,
            "overflow_y": null,
            "padding": null,
            "right": null,
            "top": null,
            "visibility": null,
            "width": null
          }
        },
        "1065a2f787d3479da233c6546f03c77c": {
          "model_module": "@jupyter-widgets/controls",
          "model_name": "DescriptionStyleModel",
          "model_module_version": "1.5.0",
          "state": {
            "_model_module": "@jupyter-widgets/controls",
            "_model_module_version": "1.5.0",
            "_model_name": "DescriptionStyleModel",
            "_view_count": null,
            "_view_module": "@jupyter-widgets/base",
            "_view_module_version": "1.2.0",
            "_view_name": "StyleView",
            "description_width": ""
          }
        },
        "feb466d2a8c74dfa86a2374a978c2f70": {
          "model_module": "@jupyter-widgets/base",
          "model_name": "LayoutModel",
          "model_module_version": "1.2.0",
          "state": {
            "_model_module": "@jupyter-widgets/base",
            "_model_module_version": "1.2.0",
            "_model_name": "LayoutModel",
            "_view_count": null,
            "_view_module": "@jupyter-widgets/base",
            "_view_module_version": "1.2.0",
            "_view_name": "LayoutView",
            "align_content": null,
            "align_items": null,
            "align_self": null,
            "border": null,
            "bottom": null,
            "display": null,
            "flex": null,
            "flex_flow": null,
            "grid_area": null,
            "grid_auto_columns": null,
            "grid_auto_flow": null,
            "grid_auto_rows": null,
            "grid_column": null,
            "grid_gap": null,
            "grid_row": null,
            "grid_template_areas": null,
            "grid_template_columns": null,
            "grid_template_rows": null,
            "height": null,
            "justify_content": null,
            "justify_items": null,
            "left": null,
            "margin": null,
            "max_height": null,
            "max_width": null,
            "min_height": null,
            "min_width": null,
            "object_fit": null,
            "object_position": null,
            "order": null,
            "overflow": null,
            "overflow_x": null,
            "overflow_y": null,
            "padding": null,
            "right": null,
            "top": null,
            "visibility": null,
            "width": null
          }
        },
        "199cb28e13764de2a70d108447355cf9": {
          "model_module": "@jupyter-widgets/controls",
          "model_name": "ProgressStyleModel",
          "model_module_version": "1.5.0",
          "state": {
            "_model_module": "@jupyter-widgets/controls",
            "_model_module_version": "1.5.0",
            "_model_name": "ProgressStyleModel",
            "_view_count": null,
            "_view_module": "@jupyter-widgets/base",
            "_view_module_version": "1.2.0",
            "_view_name": "StyleView",
            "bar_color": null,
            "description_width": ""
          }
        },
        "689f6a9f89da4b2d9ba64cfa5320d99a": {
          "model_module": "@jupyter-widgets/base",
          "model_name": "LayoutModel",
          "model_module_version": "1.2.0",
          "state": {
            "_model_module": "@jupyter-widgets/base",
            "_model_module_version": "1.2.0",
            "_model_name": "LayoutModel",
            "_view_count": null,
            "_view_module": "@jupyter-widgets/base",
            "_view_module_version": "1.2.0",
            "_view_name": "LayoutView",
            "align_content": null,
            "align_items": null,
            "align_self": null,
            "border": null,
            "bottom": null,
            "display": null,
            "flex": null,
            "flex_flow": null,
            "grid_area": null,
            "grid_auto_columns": null,
            "grid_auto_flow": null,
            "grid_auto_rows": null,
            "grid_column": null,
            "grid_gap": null,
            "grid_row": null,
            "grid_template_areas": null,
            "grid_template_columns": null,
            "grid_template_rows": null,
            "height": null,
            "justify_content": null,
            "justify_items": null,
            "left": null,
            "margin": null,
            "max_height": null,
            "max_width": null,
            "min_height": null,
            "min_width": null,
            "object_fit": null,
            "object_position": null,
            "order": null,
            "overflow": null,
            "overflow_x": null,
            "overflow_y": null,
            "padding": null,
            "right": null,
            "top": null,
            "visibility": null,
            "width": null
          }
        },
        "78952a61095a4474b6a02a133d6afe78": {
          "model_module": "@jupyter-widgets/controls",
          "model_name": "DescriptionStyleModel",
          "model_module_version": "1.5.0",
          "state": {
            "_model_module": "@jupyter-widgets/controls",
            "_model_module_version": "1.5.0",
            "_model_name": "DescriptionStyleModel",
            "_view_count": null,
            "_view_module": "@jupyter-widgets/base",
            "_view_module_version": "1.2.0",
            "_view_name": "StyleView",
            "description_width": ""
          }
        },
        "26ce970f6ae54b1f8a9cc3afbab15dd2": {
          "model_module": "@jupyter-widgets/controls",
          "model_name": "HBoxModel",
          "model_module_version": "1.5.0",
          "state": {
            "_dom_classes": [],
            "_model_module": "@jupyter-widgets/controls",
            "_model_module_version": "1.5.0",
            "_model_name": "HBoxModel",
            "_view_count": null,
            "_view_module": "@jupyter-widgets/controls",
            "_view_module_version": "1.5.0",
            "_view_name": "HBoxView",
            "box_style": "",
            "children": [
              "IPY_MODEL_6160e0ae9afb4415b67b5cfe47bb1722",
              "IPY_MODEL_b5dd1359a3bb4443bef0dc131930f97d",
              "IPY_MODEL_24fdbe562f0f4b95b74a928e64b80f7c"
            ],
            "layout": "IPY_MODEL_80a419dbfe94412c851b4e810fa42269"
          }
        },
        "6160e0ae9afb4415b67b5cfe47bb1722": {
          "model_module": "@jupyter-widgets/controls",
          "model_name": "HTMLModel",
          "model_module_version": "1.5.0",
          "state": {
            "_dom_classes": [],
            "_model_module": "@jupyter-widgets/controls",
            "_model_module_version": "1.5.0",
            "_model_name": "HTMLModel",
            "_view_count": null,
            "_view_module": "@jupyter-widgets/controls",
            "_view_module_version": "1.5.0",
            "_view_name": "HTMLView",
            "description": "",
            "description_tooltip": null,
            "layout": "IPY_MODEL_6d135c14cbdc4b4a99335d7e3dad2a62",
            "placeholder": "​",
            "style": "IPY_MODEL_e570009d5fce42be96b0a46c49ac3511",
            "value": "100%"
          }
        },
        "b5dd1359a3bb4443bef0dc131930f97d": {
          "model_module": "@jupyter-widgets/controls",
          "model_name": "FloatProgressModel",
          "model_module_version": "1.5.0",
          "state": {
            "_dom_classes": [],
            "_model_module": "@jupyter-widgets/controls",
            "_model_module_version": "1.5.0",
            "_model_name": "FloatProgressModel",
            "_view_count": null,
            "_view_module": "@jupyter-widgets/controls",
            "_view_module_version": "1.5.0",
            "_view_name": "ProgressView",
            "bar_style": "success",
            "description": "",
            "description_tooltip": null,
            "layout": "IPY_MODEL_4b941b1c07554eeabd73869dbbceaa7e",
            "max": 1648877,
            "min": 0,
            "orientation": "horizontal",
            "style": "IPY_MODEL_81e8999cc81c41f7988e33884923b511",
            "value": 1648877
          }
        },
        "24fdbe562f0f4b95b74a928e64b80f7c": {
          "model_module": "@jupyter-widgets/controls",
          "model_name": "HTMLModel",
          "model_module_version": "1.5.0",
          "state": {
            "_dom_classes": [],
            "_model_module": "@jupyter-widgets/controls",
            "_model_module_version": "1.5.0",
            "_model_name": "HTMLModel",
            "_view_count": null,
            "_view_module": "@jupyter-widgets/controls",
            "_view_module_version": "1.5.0",
            "_view_name": "HTMLView",
            "description": "",
            "description_tooltip": null,
            "layout": "IPY_MODEL_3b7e0a13b7604d139bd98d8f37977642",
            "placeholder": "​",
            "style": "IPY_MODEL_3dde5eb999e9488d8a14811372068bdc",
            "value": " 1648877/1648877 [00:00&lt;00:00, 70745017.25it/s]"
          }
        },
        "80a419dbfe94412c851b4e810fa42269": {
          "model_module": "@jupyter-widgets/base",
          "model_name": "LayoutModel",
          "model_module_version": "1.2.0",
          "state": {
            "_model_module": "@jupyter-widgets/base",
            "_model_module_version": "1.2.0",
            "_model_name": "LayoutModel",
            "_view_count": null,
            "_view_module": "@jupyter-widgets/base",
            "_view_module_version": "1.2.0",
            "_view_name": "LayoutView",
            "align_content": null,
            "align_items": null,
            "align_self": null,
            "border": null,
            "bottom": null,
            "display": null,
            "flex": null,
            "flex_flow": null,
            "grid_area": null,
            "grid_auto_columns": null,
            "grid_auto_flow": null,
            "grid_auto_rows": null,
            "grid_column": null,
            "grid_gap": null,
            "grid_row": null,
            "grid_template_areas": null,
            "grid_template_columns": null,
            "grid_template_rows": null,
            "height": null,
            "justify_content": null,
            "justify_items": null,
            "left": null,
            "margin": null,
            "max_height": null,
            "max_width": null,
            "min_height": null,
            "min_width": null,
            "object_fit": null,
            "object_position": null,
            "order": null,
            "overflow": null,
            "overflow_x": null,
            "overflow_y": null,
            "padding": null,
            "right": null,
            "top": null,
            "visibility": null,
            "width": null
          }
        },
        "6d135c14cbdc4b4a99335d7e3dad2a62": {
          "model_module": "@jupyter-widgets/base",
          "model_name": "LayoutModel",
          "model_module_version": "1.2.0",
          "state": {
            "_model_module": "@jupyter-widgets/base",
            "_model_module_version": "1.2.0",
            "_model_name": "LayoutModel",
            "_view_count": null,
            "_view_module": "@jupyter-widgets/base",
            "_view_module_version": "1.2.0",
            "_view_name": "LayoutView",
            "align_content": null,
            "align_items": null,
            "align_self": null,
            "border": null,
            "bottom": null,
            "display": null,
            "flex": null,
            "flex_flow": null,
            "grid_area": null,
            "grid_auto_columns": null,
            "grid_auto_flow": null,
            "grid_auto_rows": null,
            "grid_column": null,
            "grid_gap": null,
            "grid_row": null,
            "grid_template_areas": null,
            "grid_template_columns": null,
            "grid_template_rows": null,
            "height": null,
            "justify_content": null,
            "justify_items": null,
            "left": null,
            "margin": null,
            "max_height": null,
            "max_width": null,
            "min_height": null,
            "min_width": null,
            "object_fit": null,
            "object_position": null,
            "order": null,
            "overflow": null,
            "overflow_x": null,
            "overflow_y": null,
            "padding": null,
            "right": null,
            "top": null,
            "visibility": null,
            "width": null
          }
        },
        "e570009d5fce42be96b0a46c49ac3511": {
          "model_module": "@jupyter-widgets/controls",
          "model_name": "DescriptionStyleModel",
          "model_module_version": "1.5.0",
          "state": {
            "_model_module": "@jupyter-widgets/controls",
            "_model_module_version": "1.5.0",
            "_model_name": "DescriptionStyleModel",
            "_view_count": null,
            "_view_module": "@jupyter-widgets/base",
            "_view_module_version": "1.2.0",
            "_view_name": "StyleView",
            "description_width": ""
          }
        },
        "4b941b1c07554eeabd73869dbbceaa7e": {
          "model_module": "@jupyter-widgets/base",
          "model_name": "LayoutModel",
          "model_module_version": "1.2.0",
          "state": {
            "_model_module": "@jupyter-widgets/base",
            "_model_module_version": "1.2.0",
            "_model_name": "LayoutModel",
            "_view_count": null,
            "_view_module": "@jupyter-widgets/base",
            "_view_module_version": "1.2.0",
            "_view_name": "LayoutView",
            "align_content": null,
            "align_items": null,
            "align_self": null,
            "border": null,
            "bottom": null,
            "display": null,
            "flex": null,
            "flex_flow": null,
            "grid_area": null,
            "grid_auto_columns": null,
            "grid_auto_flow": null,
            "grid_auto_rows": null,
            "grid_column": null,
            "grid_gap": null,
            "grid_row": null,
            "grid_template_areas": null,
            "grid_template_columns": null,
            "grid_template_rows": null,
            "height": null,
            "justify_content": null,
            "justify_items": null,
            "left": null,
            "margin": null,
            "max_height": null,
            "max_width": null,
            "min_height": null,
            "min_width": null,
            "object_fit": null,
            "object_position": null,
            "order": null,
            "overflow": null,
            "overflow_x": null,
            "overflow_y": null,
            "padding": null,
            "right": null,
            "top": null,
            "visibility": null,
            "width": null
          }
        },
        "81e8999cc81c41f7988e33884923b511": {
          "model_module": "@jupyter-widgets/controls",
          "model_name": "ProgressStyleModel",
          "model_module_version": "1.5.0",
          "state": {
            "_model_module": "@jupyter-widgets/controls",
            "_model_module_version": "1.5.0",
            "_model_name": "ProgressStyleModel",
            "_view_count": null,
            "_view_module": "@jupyter-widgets/base",
            "_view_module_version": "1.2.0",
            "_view_name": "StyleView",
            "bar_color": null,
            "description_width": ""
          }
        },
        "3b7e0a13b7604d139bd98d8f37977642": {
          "model_module": "@jupyter-widgets/base",
          "model_name": "LayoutModel",
          "model_module_version": "1.2.0",
          "state": {
            "_model_module": "@jupyter-widgets/base",
            "_model_module_version": "1.2.0",
            "_model_name": "LayoutModel",
            "_view_count": null,
            "_view_module": "@jupyter-widgets/base",
            "_view_module_version": "1.2.0",
            "_view_name": "LayoutView",
            "align_content": null,
            "align_items": null,
            "align_self": null,
            "border": null,
            "bottom": null,
            "display": null,
            "flex": null,
            "flex_flow": null,
            "grid_area": null,
            "grid_auto_columns": null,
            "grid_auto_flow": null,
            "grid_auto_rows": null,
            "grid_column": null,
            "grid_gap": null,
            "grid_row": null,
            "grid_template_areas": null,
            "grid_template_columns": null,
            "grid_template_rows": null,
            "height": null,
            "justify_content": null,
            "justify_items": null,
            "left": null,
            "margin": null,
            "max_height": null,
            "max_width": null,
            "min_height": null,
            "min_width": null,
            "object_fit": null,
            "object_position": null,
            "order": null,
            "overflow": null,
            "overflow_x": null,
            "overflow_y": null,
            "padding": null,
            "right": null,
            "top": null,
            "visibility": null,
            "width": null
          }
        },
        "3dde5eb999e9488d8a14811372068bdc": {
          "model_module": "@jupyter-widgets/controls",
          "model_name": "DescriptionStyleModel",
          "model_module_version": "1.5.0",
          "state": {
            "_model_module": "@jupyter-widgets/controls",
            "_model_module_version": "1.5.0",
            "_model_name": "DescriptionStyleModel",
            "_view_count": null,
            "_view_module": "@jupyter-widgets/base",
            "_view_module_version": "1.2.0",
            "_view_name": "StyleView",
            "description_width": ""
          }
        },
        "0214217b5b604eafa216a37dfe7b630e": {
          "model_module": "@jupyter-widgets/controls",
          "model_name": "HBoxModel",
          "model_module_version": "1.5.0",
          "state": {
            "_dom_classes": [],
            "_model_module": "@jupyter-widgets/controls",
            "_model_module_version": "1.5.0",
            "_model_name": "HBoxModel",
            "_view_count": null,
            "_view_module": "@jupyter-widgets/controls",
            "_view_module_version": "1.5.0",
            "_view_name": "HBoxView",
            "box_style": "",
            "children": [
              "IPY_MODEL_f0146ec7f9ea4b72ac458cde62a470d7",
              "IPY_MODEL_906e68906d4f469fb921fb5ab781fc24",
              "IPY_MODEL_6f47c5ee0602416f9f49307e1656a907"
            ],
            "layout": "IPY_MODEL_99b4439e59ea43f8ab3e936c16244813"
          }
        },
        "f0146ec7f9ea4b72ac458cde62a470d7": {
          "model_module": "@jupyter-widgets/controls",
          "model_name": "HTMLModel",
          "model_module_version": "1.5.0",
          "state": {
            "_dom_classes": [],
            "_model_module": "@jupyter-widgets/controls",
            "_model_module_version": "1.5.0",
            "_model_name": "HTMLModel",
            "_view_count": null,
            "_view_module": "@jupyter-widgets/controls",
            "_view_module_version": "1.5.0",
            "_view_name": "HTMLView",
            "description": "",
            "description_tooltip": null,
            "layout": "IPY_MODEL_16b5a6f9d9f748fcac635d9f4e55c3d6",
            "placeholder": "​",
            "style": "IPY_MODEL_2f994a8ec1b54449a256cb8e4e00c4e4",
            "value": "100%"
          }
        },
        "906e68906d4f469fb921fb5ab781fc24": {
          "model_module": "@jupyter-widgets/controls",
          "model_name": "FloatProgressModel",
          "model_module_version": "1.5.0",
          "state": {
            "_dom_classes": [],
            "_model_module": "@jupyter-widgets/controls",
            "_model_module_version": "1.5.0",
            "_model_name": "FloatProgressModel",
            "_view_count": null,
            "_view_module": "@jupyter-widgets/controls",
            "_view_module_version": "1.5.0",
            "_view_name": "ProgressView",
            "bar_style": "success",
            "description": "",
            "description_tooltip": null,
            "layout": "IPY_MODEL_5cdbd9447c3c434394f650ae6b0eb1a4",
            "max": 4542,
            "min": 0,
            "orientation": "horizontal",
            "style": "IPY_MODEL_91be2689b98944efa842384ed99080e7",
            "value": 4542
          }
        },
        "6f47c5ee0602416f9f49307e1656a907": {
          "model_module": "@jupyter-widgets/controls",
          "model_name": "HTMLModel",
          "model_module_version": "1.5.0",
          "state": {
            "_dom_classes": [],
            "_model_module": "@jupyter-widgets/controls",
            "_model_module_version": "1.5.0",
            "_model_name": "HTMLModel",
            "_view_count": null,
            "_view_module": "@jupyter-widgets/controls",
            "_view_module_version": "1.5.0",
            "_view_name": "HTMLView",
            "description": "",
            "description_tooltip": null,
            "layout": "IPY_MODEL_373879a6f8ec4e73aa5f523df3a419fe",
            "placeholder": "​",
            "style": "IPY_MODEL_ff41fb22c6ac49d083d6ec0d41e33e12",
            "value": " 4542/4542 [00:00&lt;00:00, 274076.78it/s]"
          }
        },
        "99b4439e59ea43f8ab3e936c16244813": {
          "model_module": "@jupyter-widgets/base",
          "model_name": "LayoutModel",
          "model_module_version": "1.2.0",
          "state": {
            "_model_module": "@jupyter-widgets/base",
            "_model_module_version": "1.2.0",
            "_model_name": "LayoutModel",
            "_view_count": null,
            "_view_module": "@jupyter-widgets/base",
            "_view_module_version": "1.2.0",
            "_view_name": "LayoutView",
            "align_content": null,
            "align_items": null,
            "align_self": null,
            "border": null,
            "bottom": null,
            "display": null,
            "flex": null,
            "flex_flow": null,
            "grid_area": null,
            "grid_auto_columns": null,
            "grid_auto_flow": null,
            "grid_auto_rows": null,
            "grid_column": null,
            "grid_gap": null,
            "grid_row": null,
            "grid_template_areas": null,
            "grid_template_columns": null,
            "grid_template_rows": null,
            "height": null,
            "justify_content": null,
            "justify_items": null,
            "left": null,
            "margin": null,
            "max_height": null,
            "max_width": null,
            "min_height": null,
            "min_width": null,
            "object_fit": null,
            "object_position": null,
            "order": null,
            "overflow": null,
            "overflow_x": null,
            "overflow_y": null,
            "padding": null,
            "right": null,
            "top": null,
            "visibility": null,
            "width": null
          }
        },
        "16b5a6f9d9f748fcac635d9f4e55c3d6": {
          "model_module": "@jupyter-widgets/base",
          "model_name": "LayoutModel",
          "model_module_version": "1.2.0",
          "state": {
            "_model_module": "@jupyter-widgets/base",
            "_model_module_version": "1.2.0",
            "_model_name": "LayoutModel",
            "_view_count": null,
            "_view_module": "@jupyter-widgets/base",
            "_view_module_version": "1.2.0",
            "_view_name": "LayoutView",
            "align_content": null,
            "align_items": null,
            "align_self": null,
            "border": null,
            "bottom": null,
            "display": null,
            "flex": null,
            "flex_flow": null,
            "grid_area": null,
            "grid_auto_columns": null,
            "grid_auto_flow": null,
            "grid_auto_rows": null,
            "grid_column": null,
            "grid_gap": null,
            "grid_row": null,
            "grid_template_areas": null,
            "grid_template_columns": null,
            "grid_template_rows": null,
            "height": null,
            "justify_content": null,
            "justify_items": null,
            "left": null,
            "margin": null,
            "max_height": null,
            "max_width": null,
            "min_height": null,
            "min_width": null,
            "object_fit": null,
            "object_position": null,
            "order": null,
            "overflow": null,
            "overflow_x": null,
            "overflow_y": null,
            "padding": null,
            "right": null,
            "top": null,
            "visibility": null,
            "width": null
          }
        },
        "2f994a8ec1b54449a256cb8e4e00c4e4": {
          "model_module": "@jupyter-widgets/controls",
          "model_name": "DescriptionStyleModel",
          "model_module_version": "1.5.0",
          "state": {
            "_model_module": "@jupyter-widgets/controls",
            "_model_module_version": "1.5.0",
            "_model_name": "DescriptionStyleModel",
            "_view_count": null,
            "_view_module": "@jupyter-widgets/base",
            "_view_module_version": "1.2.0",
            "_view_name": "StyleView",
            "description_width": ""
          }
        },
        "5cdbd9447c3c434394f650ae6b0eb1a4": {
          "model_module": "@jupyter-widgets/base",
          "model_name": "LayoutModel",
          "model_module_version": "1.2.0",
          "state": {
            "_model_module": "@jupyter-widgets/base",
            "_model_module_version": "1.2.0",
            "_model_name": "LayoutModel",
            "_view_count": null,
            "_view_module": "@jupyter-widgets/base",
            "_view_module_version": "1.2.0",
            "_view_name": "LayoutView",
            "align_content": null,
            "align_items": null,
            "align_self": null,
            "border": null,
            "bottom": null,
            "display": null,
            "flex": null,
            "flex_flow": null,
            "grid_area": null,
            "grid_auto_columns": null,
            "grid_auto_flow": null,
            "grid_auto_rows": null,
            "grid_column": null,
            "grid_gap": null,
            "grid_row": null,
            "grid_template_areas": null,
            "grid_template_columns": null,
            "grid_template_rows": null,
            "height": null,
            "justify_content": null,
            "justify_items": null,
            "left": null,
            "margin": null,
            "max_height": null,
            "max_width": null,
            "min_height": null,
            "min_width": null,
            "object_fit": null,
            "object_position": null,
            "order": null,
            "overflow": null,
            "overflow_x": null,
            "overflow_y": null,
            "padding": null,
            "right": null,
            "top": null,
            "visibility": null,
            "width": null
          }
        },
        "91be2689b98944efa842384ed99080e7": {
          "model_module": "@jupyter-widgets/controls",
          "model_name": "ProgressStyleModel",
          "model_module_version": "1.5.0",
          "state": {
            "_model_module": "@jupyter-widgets/controls",
            "_model_module_version": "1.5.0",
            "_model_name": "ProgressStyleModel",
            "_view_count": null,
            "_view_module": "@jupyter-widgets/base",
            "_view_module_version": "1.2.0",
            "_view_name": "StyleView",
            "bar_color": null,
            "description_width": ""
          }
        },
        "373879a6f8ec4e73aa5f523df3a419fe": {
          "model_module": "@jupyter-widgets/base",
          "model_name": "LayoutModel",
          "model_module_version": "1.2.0",
          "state": {
            "_model_module": "@jupyter-widgets/base",
            "_model_module_version": "1.2.0",
            "_model_name": "LayoutModel",
            "_view_count": null,
            "_view_module": "@jupyter-widgets/base",
            "_view_module_version": "1.2.0",
            "_view_name": "LayoutView",
            "align_content": null,
            "align_items": null,
            "align_self": null,
            "border": null,
            "bottom": null,
            "display": null,
            "flex": null,
            "flex_flow": null,
            "grid_area": null,
            "grid_auto_columns": null,
            "grid_auto_flow": null,
            "grid_auto_rows": null,
            "grid_column": null,
            "grid_gap": null,
            "grid_row": null,
            "grid_template_areas": null,
            "grid_template_columns": null,
            "grid_template_rows": null,
            "height": null,
            "justify_content": null,
            "justify_items": null,
            "left": null,
            "margin": null,
            "max_height": null,
            "max_width": null,
            "min_height": null,
            "min_width": null,
            "object_fit": null,
            "object_position": null,
            "order": null,
            "overflow": null,
            "overflow_x": null,
            "overflow_y": null,
            "padding": null,
            "right": null,
            "top": null,
            "visibility": null,
            "width": null
          }
        },
        "ff41fb22c6ac49d083d6ec0d41e33e12": {
          "model_module": "@jupyter-widgets/controls",
          "model_name": "DescriptionStyleModel",
          "model_module_version": "1.5.0",
          "state": {
            "_model_module": "@jupyter-widgets/controls",
            "_model_module_version": "1.5.0",
            "_model_name": "DescriptionStyleModel",
            "_view_count": null,
            "_view_module": "@jupyter-widgets/base",
            "_view_module_version": "1.2.0",
            "_view_name": "StyleView",
            "description_width": ""
          }
        }
      }
    }
  },
  "nbformat": 4,
  "nbformat_minor": 5
}